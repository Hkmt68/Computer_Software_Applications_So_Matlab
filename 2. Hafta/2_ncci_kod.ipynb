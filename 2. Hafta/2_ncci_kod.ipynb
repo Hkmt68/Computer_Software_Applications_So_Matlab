{
 "cells": [
  {
   "cell_type": "code",
   "execution_count": 2,
   "metadata": {},
   "outputs": [
    {
     "name": "stdout",
     "output_type": "stream",
     "text": [
      "\n",
      "a =\n",
      "\n",
      "    3.0000\n",
      "\n",
      "\n",
      "b =\n",
      "\n",
      "    4.0000\n",
      "\n",
      "\n"
     ]
    }
   ],
   "source": [
    "[a b] = pol2cart(53.1301*pi/180,5)"
   ]
  },
  {
   "cell_type": "code",
   "execution_count": 4,
   "metadata": {},
   "outputs": [
    {
     "name": "stdout",
     "output_type": "stream",
     "text": [
      "\n",
      "x =\n",
      "\n",
      "     1     2     3     4     5\n",
      "\n",
      "\n",
      "f =\n",
      "\n",
      "     6     8    10    12    14\n",
      "\n",
      "\n",
      "f2 =\n",
      "\n",
      "     6    12    22    36    54\n",
      "\n",
      "\n"
     ]
    }
   ],
   "source": [
    "x = [1 2 3 4 5]\n",
    "\n",
    "f = 2*x + 4 \n",
    "\n",
    "f2 = 2*x.^2 + 4\n"
   ]
  },
  {
   "cell_type": "markdown",
   "metadata": {},
   "source": [
    "1. Soru"
   ]
  },
  {
   "cell_type": "code",
   "execution_count": 7,
   "metadata": {},
   "outputs": [
    {
     "name": "stdout",
     "output_type": "stream",
     "text": [
      "\n",
      "x =\n",
      "\n",
      "    -2    -1     0     1     2     3     4     5\n",
      "\n",
      "\n"
     ]
    }
   ],
   "source": [
    "x = -2:5"
   ]
  },
  {
   "cell_type": "code",
   "execution_count": 9,
   "metadata": {},
   "outputs": [
    {
     "name": "stdout",
     "output_type": "stream",
     "text": [
      "\n",
      "x =\n",
      "\n",
      "  Columns 1 through 13\n",
      "\n",
      "   -2.0000   -1.5000   -1.0000   -0.5000         0    0.5000    1.0000    1.5000    2.0000    2.5000    3.0000    3.5000    4.0000\n",
      "\n",
      "  Columns 14 through 15\n",
      "\n",
      "    4.5000    5.0000\n",
      "\n",
      "\n"
     ]
    }
   ],
   "source": [
    "x = -2:0.5:5"
   ]
  },
  {
   "cell_type": "code",
   "execution_count": 13,
   "metadata": {},
   "outputs": [
    {
     "name": "stdout",
     "output_type": "stream",
     "text": [
      "\n",
      "x =\n",
      "\n",
      "  Columns 1 through 13\n",
      "\n",
      "   -2.0000   -1.9719   -1.9438   -1.9157   -1.8876   -1.8594   -1.8313   -1.8032   -1.7751   -1.7470   -1.7189   -1.6908   -1.6627\n",
      "\n",
      "  Columns 14 through 26\n",
      "\n",
      "   -1.6345   -1.6064   -1.5783   -1.5502   -1.5221   -1.4940   -1.4659   -1.4378   -1.4096   -1.3815   -1.3534   -1.3253   -1.2972\n",
      "\n",
      "  Columns 27 through 39\n",
      "\n",
      "   -1.2691   -1.2410   -1.2129   -1.1847   -1.1566   -1.1285   -1.1004   -1.0723   -1.0442   -1.0161   -0.9880   -0.9598   -0.9317\n",
      "\n",
      "  Columns 40 through 52\n",
      "\n",
      "   -0.9036   -0.8755   -0.8474   -0.8193   -0.7912   -0.7631   -0.7349   -0.7068   -0.6787   -0.6506   -0.6225   -0.5944   -0.5663\n",
      "\n",
      "  Columns 53 through 65\n",
      "\n",
      "   -0.5382   -0.5100   -0.4819   -0.4538   -0.4257   -0.3976   -0.3695   -0.3414   -0.3133   -0.2851   -0.2570   -0.2289   -0.2008\n",
      "\n",
      "  Columns 66 through 78\n",
      "\n",
      "   -0.1727   -0.1446   -0.1165   -0.0884   -0.0602   -0.0321   -0.0040    0.0241    0.0522    0.0803    0.1084    0.1365    0.1647\n",
      "\n",
      "  Columns 79 through 91\n",
      "\n",
      "    0.1928    0.2209    0.2490    0.2771    0.3052    0.3333    0.3614    0.3896    0.4177    0.4458    0.4739    0.5020    0.5301\n",
      "\n",
      "  Columns 92 through 104\n",
      "\n",
      "    0.5582    0.5863    0.6145    0.6426    0.6707    0.6988    0.7269    0.7550    0.7831    0.8112    0.8394    0.8675    0.8956\n",
      "\n",
      "  Columns 105 through 117\n",
      "\n",
      "    0.9237    0.9518    0.9799    1.0080    1.0361    1.0643    1.0924    1.1205    1.1486    1.1767    1.2048    1.2329    1.2610\n",
      "\n",
      "  Columns 118 through 130\n",
      "\n",
      "    1.2892    1.3173    1.3454    1.3735    1.4016    1.4297    1.4578    1.4859    1.5141    1.5422    1.5703    1.5984    1.6265\n",
      "\n",
      "  Columns 131 through 143\n",
      "\n",
      "    1.6546    1.6827    1.7108    1.7390    1.7671    1.7952    1.8233    1.8514    1.8795    1.9076    1.9357    1.9639    1.9920\n",
      "\n",
      "  Columns 144 through 156\n",
      "\n",
      "    2.0201    2.0482    2.0763    2.1044    2.1325    2.1606    2.1888    2.2169    2.2450    2.2731    2.3012    2.3293    2.3574\n",
      "\n",
      "  Columns 157 through 169\n",
      "\n",
      "    2.3855    2.4137    2.4418    2.4699    2.4980    2.5261    2.5542    2.5823    2.6104    2.6386    2.6667    2.6948    2.7229\n",
      "\n",
      "  Columns 170 through 182\n",
      "\n",
      "    2.7510    2.7791    2.8072    2.8353    2.8635    2.8916    2.9197    2.9478    2.9759    3.0040    3.0321    3.0602    3.0884\n",
      "\n",
      "  Columns 183 through 195\n",
      "\n",
      "    3.1165    3.1446    3.1727    3.2008    3.2289    3.2570    3.2851    3.3133    3.3414    3.3695    3.3976    3.4257    3.4538\n",
      "\n",
      "  Columns 196 through 208\n",
      "\n",
      "    3.4819    3.5100    3.5382    3.5663    3.5944    3.6225    3.6506    3.6787    3.7068    3.7349    3.7631    3.7912    3.8193\n",
      "\n",
      "  Columns 209 through 221\n",
      "\n",
      "    3.8474    3.8755    3.9036    3.9317    3.9598    3.9880    4.0161    4.0442    4.0723    4.1004    4.1285    4.1566    4.1847\n",
      "\n",
      "  Columns 222 through 234\n",
      "\n",
      "    4.2129    4.2410    4.2691    4.2972    4.3253    4.3534    4.3815    4.4096    4.4378    4.4659    4.4940    4.5221    4.5502\n",
      "\n",
      "  Columns 235 through 247\n",
      "\n",
      "    4.5783    4.6064    4.6345    4.6627    4.6908    4.7189    4.7470    4.7751    4.8032    4.8313    4.8594    4.8876    4.9157\n",
      "\n",
      "  Columns 248 through 250\n",
      "\n",
      "    4.9438    4.9719    5.0000\n",
      "\n",
      "\n"
     ]
    }
   ],
   "source": [
    "x = linspace(-2, 5, 250)"
   ]
  },
  {
   "cell_type": "code",
   "execution_count": 14,
   "metadata": {},
   "outputs": [
    {
     "name": "stdout",
     "output_type": "stream",
     "text": [
      "\n",
      "ans =\n",
      "\n",
      "     1   250\n",
      "\n",
      "\n"
     ]
    }
   ],
   "source": [
    "size(x)"
   ]
  },
  {
   "cell_type": "code",
   "execution_count": 15,
   "metadata": {},
   "outputs": [
    {
     "name": "stdout",
     "output_type": "stream",
     "text": [
      "\n",
      "ans =\n",
      "\n",
      "   250\n",
      "\n",
      "\n"
     ]
    }
   ],
   "source": [
    "length(x)"
   ]
  },
  {
   "cell_type": "code",
   "execution_count": 16,
   "metadata": {},
   "outputs": [
    {
     "name": "stdout",
     "output_type": "stream",
     "text": [
      "\n",
      "y =\n",
      "\n",
      "    1.0512\n",
      "\n",
      "\n"
     ]
    }
   ],
   "source": [
    "y = (((3*x.^2 - 4*x + 2).^2)/(20*x.^3))"
   ]
  },
  {
   "cell_type": "code",
   "execution_count": 7,
   "metadata": {},
   "outputs": [
    {
     "name": "stdout",
     "output_type": "stream",
     "text": [
      "\n",
      "x =\n",
      "\n",
      "    -2    -1     0     1     2     3     4     5\n",
      "\n",
      "\n"
     ]
    }
   ],
   "source": [
    "x = -2:5"
   ]
  },
  {
   "cell_type": "markdown",
   "metadata": {},
   "source": [
    "parantezleri kullanmak oldukça önemli doğru sonuçları bulmak için"
   ]
  },
  {
   "cell_type": "code",
   "execution_count": 20,
   "metadata": {},
   "outputs": [
    {
     "name": "stdout",
     "output_type": "stream",
     "text": [
      "\n",
      "f =\n",
      "\n",
      "    0.2500    0.2500       NaN    0.2500    0.2500    0.2500    0.2500    0.2500\n",
      "\n",
      "\n"
     ]
    }
   ],
   "source": [
    "f = x./(4.*x)"
   ]
  },
  {
   "cell_type": "code",
   "execution_count": 8,
   "metadata": {},
   "outputs": [
    {
     "name": "stdout",
     "output_type": "stream",
     "text": [
      "\n",
      "ans =\n",
      "\n",
      "   1.0e+03 *\n",
      "\n",
      "    0.0003   -0.0010    0.0010    0.0010    0.0040    0.0270    0.2560    3.1250\n",
      "\n",
      "\n"
     ]
    }
   ],
   "source": [
    "x.^x"
   ]
  },
  {
   "cell_type": "code",
   "execution_count": null,
   "metadata": {},
   "outputs": [],
   "source": []
  },
  {
   "cell_type": "markdown",
   "metadata": {},
   "source": [
    "*Matlabda işlem Öncelikleri*\n",
    "1- Parantez\n",
    "2- Kuvvet\n",
    "3- Dört işlem\n",
    "4- Fonksiyon "
   ]
  },
  {
   "cell_type": "code",
   "execution_count": 71,
   "metadata": {},
   "outputs": [
    {
     "name": "stdout",
     "output_type": "stream",
     "text": [
      "\n",
      "A =\n",
      "\n",
      "     1     2     3     4\n",
      "     5     6     7     8\n",
      "\n",
      "\n"
     ]
    }
   ],
   "source": [
    "A = [1 2 3 4; 5 6 7 8]"
   ]
  },
  {
   "cell_type": "code",
   "execution_count": 74,
   "metadata": {},
   "outputs": [
    {
     "name": "stdout",
     "output_type": "stream",
     "text": [
      "\n",
      "ans =\n",
      "\n",
      "     5     6     7     8\n",
      "     1     2     3     4\n",
      "\n",
      "\n",
      "ans =\n",
      "\n",
      "     4     3     2     1\n",
      "     8     7     6     5\n",
      "\n",
      "\n"
     ]
    }
   ],
   "source": [
    "flipud(A)\n",
    "fliplr(A)"
   ]
  },
  {
   "cell_type": "code",
   "execution_count": 14,
   "metadata": {},
   "outputs": [
    {
     "name": "stdout",
     "output_type": "stream",
     "text": [
      "\n",
      "B =\n",
      "\n",
      "     4     8\n",
      "     3     7\n",
      "     2     6\n",
      "     1     5\n",
      "\n",
      "\n"
     ]
    }
   ],
   "source": [
    "B = rot90(A)"
   ]
  },
  {
   "cell_type": "code",
   "execution_count": 5,
   "metadata": {},
   "outputs": [
    {
     "name": "stdout",
     "output_type": "stream",
     "text": [
      "\n",
      "C =\n",
      "\n",
      "     8     7     6     5\n",
      "     4     3     2     1\n",
      "\n",
      "\n"
     ]
    }
   ],
   "source": [
    "C = rot90(A,2)"
   ]
  },
  {
   "cell_type": "code",
   "execution_count": 4,
   "metadata": {},
   "outputs": [
    {
     "name": "stdout",
     "output_type": "stream",
     "text": [
      "\n",
      "D =\n",
      "\n",
      "     1     2     3     4     1     2     3     4\n",
      "     5     6     7     8     5     6     7     8\n",
      "     1     2     3     4     1     2     3     4\n",
      "     5     6     7     8     5     6     7     8\n",
      "\n",
      "\n"
     ]
    }
   ],
   "source": [
    "D = repmat(A, 2)"
   ]
  },
  {
   "cell_type": "code",
   "execution_count": 3,
   "metadata": {},
   "outputs": [
    {
     "name": "stdout",
     "output_type": "stream",
     "text": [
      "\n",
      "E =\n",
      "\n",
      "     1     2     3     4     1     2     3     4     1     2     3     4\n",
      "     5     6     7     8     5     6     7     8     5     6     7     8\n",
      "     1     2     3     4     1     2     3     4     1     2     3     4\n",
      "     5     6     7     8     5     6     7     8     5     6     7     8\n",
      "\n",
      "\n"
     ]
    }
   ],
   "source": [
    "E = repmat(A,2,3)"
   ]
  },
  {
   "cell_type": "code",
   "execution_count": 15,
   "metadata": {},
   "outputs": [
    {
     "name": "stdout",
     "output_type": "stream",
     "text": [
      "\n",
      "ans =\n",
      "\n",
      "     1\n",
      "\n",
      "\n"
     ]
    }
   ],
   "source": [
    "eye"
   ]
  },
  {
   "cell_type": "code",
   "execution_count": 16,
   "metadata": {},
   "outputs": [
    {
     "name": "stdout",
     "output_type": "stream",
     "text": [
      "\n",
      "ans =\n",
      "\n",
      "     1\n",
      "\n",
      "\n"
     ]
    }
   ],
   "source": [
    "ones"
   ]
  },
  {
   "cell_type": "code",
   "execution_count": 17,
   "metadata": {},
   "outputs": [
    {
     "name": "stderr",
     "output_type": "stream",
     "text": [
      "\u001b[1;31mNot enough input arguments.\n",
      "\n",
      "\u001b[0m"
     ]
    }
   ],
   "source": [
    "diag"
   ]
  },
  {
   "cell_type": "code",
   "execution_count": 18,
   "metadata": {},
   "outputs": [
    {
     "name": "stdout",
     "output_type": "stream",
     "text": [
      "\n",
      "ans =\n",
      "\n",
      "     2\n",
      "\n",
      "\n"
     ]
    }
   ],
   "source": [
    "diag(2)"
   ]
  },
  {
   "cell_type": "code",
   "execution_count": 19,
   "metadata": {},
   "outputs": [
    {
     "name": "stdout",
     "output_type": "stream",
     "text": [
      "\n",
      "ans =\n",
      "\n",
      "     0     0     0     2\n",
      "     0     0     0     0\n",
      "     0     0     0     0\n",
      "     0     0     0     0\n",
      "\n",
      "\n"
     ]
    }
   ],
   "source": [
    "diag(2,3)"
   ]
  },
  {
   "cell_type": "code",
   "execution_count": 20,
   "metadata": {},
   "outputs": [
    {
     "name": "stderr",
     "output_type": "stream",
     "text": [
      "\u001b[1;31mToo many input arguments.\n",
      "\n",
      "\u001b[0m"
     ]
    }
   ],
   "source": [
    "diag(2,3,4)"
   ]
  },
  {
   "cell_type": "code",
   "execution_count": 21,
   "metadata": {},
   "outputs": [
    {
     "name": "stdout",
     "output_type": "stream",
     "text": [
      "\n",
      "ans =\n",
      "\n",
      "     0     0     0     0     0\n",
      "     0     0     0     0     0\n",
      "     0     0     0     0     0\n",
      "     0     0     0     0     0\n",
      "     0     0     0     0     0\n",
      "\n",
      "\n"
     ]
    }
   ],
   "source": [
    "diag(0,4)"
   ]
  },
  {
   "cell_type": "code",
   "execution_count": 22,
   "metadata": {},
   "outputs": [
    {
     "name": "stdout",
     "output_type": "stream",
     "text": [
      "\n",
      "B =\n",
      "\n",
      "     1     0     0\n",
      "     0    -2     0\n",
      "     0     0     4\n",
      "\n",
      "\n"
     ]
    }
   ],
   "source": [
    "B = diag([1 -2 4])"
   ]
  },
  {
   "cell_type": "code",
   "execution_count": 23,
   "metadata": {},
   "outputs": [
    {
     "name": "stdout",
     "output_type": "stream",
     "text": [
      "\n",
      "B =\n",
      "\n",
      "     0     0     1     0     0\n",
      "     0     0     0    -2     0\n",
      "     0     0     0     0     4\n",
      "     0     0     0     0     0\n",
      "     0     0     0     0     0\n",
      "\n",
      "\n"
     ]
    }
   ],
   "source": [
    "B = diag([1 -2 4],2)"
   ]
  },
  {
   "cell_type": "code",
   "execution_count": 24,
   "metadata": {},
   "outputs": [
    {
     "name": "stdout",
     "output_type": "stream",
     "text": [
      "\n",
      "B =\n",
      "\n",
      "     0     0     0     0     0\n",
      "     0     0     0     0     0\n",
      "     1     0     0     0     0\n",
      "     0    -2     0     0     0\n",
      "     0     0     4     0     0\n",
      "\n",
      "\n"
     ]
    }
   ],
   "source": [
    "B = diag([1 -2 4],-2)"
   ]
  },
  {
   "cell_type": "code",
   "execution_count": 25,
   "metadata": {},
   "outputs": [
    {
     "name": "stdout",
     "output_type": "stream",
     "text": [
      "\n",
      "ans =\n",
      "\n",
      "     8     1     6\n",
      "     3     5     7\n",
      "     4     9     2\n",
      "\n",
      "\n"
     ]
    }
   ],
   "source": [
    "magic(3)"
   ]
  },
  {
   "cell_type": "code",
   "execution_count": 26,
   "metadata": {},
   "outputs": [
    {
     "name": "stdout",
     "output_type": "stream",
     "text": [
      "\n",
      "ans =\n",
      "\n",
      "    34    34    34    34\n",
      "\n",
      "\n"
     ]
    }
   ],
   "source": [
    "sum(magic(4))"
   ]
  },
  {
   "cell_type": "code",
   "execution_count": 27,
   "metadata": {},
   "outputs": [
    {
     "name": "stdout",
     "output_type": "stream",
     "text": [
      "\n",
      "ans =\n",
      "\n",
      "    16     2     3    13\n",
      "     5    11    10     8\n",
      "     9     7     6    12\n",
      "     4    14    15     1\n",
      "\n",
      "\n"
     ]
    }
   ],
   "source": [
    "magic(4)"
   ]
  },
  {
   "cell_type": "code",
   "execution_count": 28,
   "metadata": {},
   "outputs": [
    {
     "name": "stdout",
     "output_type": "stream",
     "text": [
      "\n",
      "ans =\n",
      "\n",
      "    65    65    65    65    65\n",
      "\n",
      "\n"
     ]
    }
   ],
   "source": [
    "sum(magic(5))"
   ]
  },
  {
   "cell_type": "code",
   "execution_count": 29,
   "metadata": {},
   "outputs": [
    {
     "name": "stdout",
     "output_type": "stream",
     "text": [
      "\n",
      "ans =\n",
      "\n",
      "    0.8147    0.9134    0.2785\n",
      "    0.9058    0.6324    0.5469\n",
      "    0.1270    0.0975    0.9575\n",
      "\n",
      "\n"
     ]
    }
   ],
   "source": [
    "rand(3)"
   ]
  },
  {
   "cell_type": "code",
   "execution_count": 30,
   "metadata": {},
   "outputs": [
    {
     "name": "stdout",
     "output_type": "stream",
     "text": [
      "\n",
      "ans =\n",
      "\n",
      "    0.9649    0.9706    0.4854\n",
      "    0.1576    0.9572    0.8003\n",
      "\n",
      "\n"
     ]
    }
   ],
   "source": [
    "rand(2,3)"
   ]
  },
  {
   "cell_type": "code",
   "execution_count": 31,
   "metadata": {},
   "outputs": [
    {
     "name": "stdout",
     "output_type": "stream",
     "text": [
      "\n",
      "ans =\n",
      "\n",
      "    3.5472   22.8934   23.9873\n",
      "   10.5440   19.8052   16.3935\n",
      "\n",
      "\n"
     ]
    }
   ],
   "source": [
    "rand(2,3)*25"
   ]
  },
  {
   "cell_type": "code",
   "execution_count": 35,
   "metadata": {},
   "outputs": [
    {
     "name": "stdout",
     "output_type": "stream",
     "text": [
      "\n",
      "ans =\n",
      "\n",
      "    0.4889\n",
      "\n",
      "\n"
     ]
    }
   ],
   "source": [
    "randn"
   ]
  },
  {
   "cell_type": "markdown",
   "metadata": {},
   "source": [
    "maksimum 50''ye kadar rastgele sayılat üretir"
   ]
  },
  {
   "cell_type": "code",
   "execution_count": 40,
   "metadata": {},
   "outputs": [
    {
     "name": "stdout",
     "output_type": "stream",
     "text": [
      "\n",
      "ans =\n",
      "\n",
      "    33\n",
      "\n",
      "\n"
     ]
    }
   ],
   "source": [
    "randi(50)"
   ]
  },
  {
   "cell_type": "code",
   "execution_count": 45,
   "metadata": {},
   "outputs": [
    {
     "name": "stdout",
     "output_type": "stream",
     "text": [
      "\n",
      "ans =\n",
      "\n",
      "    0.0462\n",
      "\n",
      "\n"
     ]
    }
   ],
   "source": [
    "rand"
   ]
  },
  {
   "cell_type": "code",
   "execution_count": 46,
   "metadata": {},
   "outputs": [
    {
     "name": "stdout",
     "output_type": "stream",
     "text": [
      "\n",
      "ans =\n",
      "\n",
      "     3     2     1\n",
      "     3     1     2\n",
      "     2     3     1\n",
      "     2     1     3\n",
      "     1     3     2\n",
      "     1     2     3\n",
      "\n",
      "\n"
     ]
    }
   ],
   "source": [
    "perms([1 2 3])"
   ]
  },
  {
   "cell_type": "code",
   "execution_count": 1,
   "metadata": {},
   "outputs": [
    {
     "name": "stdout",
     "output_type": "stream",
     "text": [
      "\n",
      "P =\n",
      "\n",
      "     6     3     5     2     4     1\n",
      "     6     3     5     2     1     4\n",
      "     6     3     5     4     2     1\n",
      "     6     3     5     4     1     2\n",
      "     6     3     5     1     2     4\n",
      "     6     3     5     1     4     2\n",
      "     6     3     2     5     4     1\n",
      "     6     3     2     5     1     4\n",
      "     6     3     2     4     5     1\n",
      "     6     3     2     4     1     5\n",
      "     6     3     2     1     5     4\n",
      "     6     3     2     1     4     5\n",
      "     6     3     4     5     2     1\n",
      "     6     3     4     5     1     2\n",
      "     6     3     4     2     5     1\n",
      "     6     3     4     2     1     5\n",
      "     6     3     4     1     5     2\n",
      "     6     3     4     1     2     5\n",
      "     6     3     1     5     2     4\n",
      "     6     3     1     5     4     2\n",
      "     6     3     1     2     5     4\n",
      "     6     3     1     2     4     5\n",
      "     6     3     1     4     5     2\n",
      "     6     3     1     4     2     5\n",
      "     6     5     3     2     4     1\n",
      "     6     5     3     2     1     4\n",
      "     6     5     3     4     2     1\n",
      "     6     5     3     4     1     2\n",
      "     6     5     3     1     2     4\n",
      "     6     5     3     1     4     2\n",
      "     6     5     2     3     4     1\n",
      "     6     5     2     3     1     4\n",
      "     6     5     2     4     3     1\n",
      "     6     5     2     4     1     3\n",
      "     6     5     2     1     3     4\n",
      "     6     5     2     1     4     3\n",
      "     6     5     4     3     2     1\n",
      "     6     5     4     3     1     2\n",
      "     6     5     4     2     3     1\n",
      "     6     5     4     2     1     3\n",
      "     6     5     4     1     3     2\n",
      "     6     5     4     1     2     3\n",
      "     6     5     1     3     2     4\n",
      "     6     5     1     3     4     2\n",
      "     6     5     1     2     3     4\n",
      "     6     5     1     2     4     3\n",
      "     6     5     1     4     3     2\n",
      "     6     5     1     4     2     3\n",
      "     6     2     3     5     4     1\n",
      "     6     2     3     5     1     4\n",
      "     6     2     3     4     5     1\n",
      "     6     2     3     4     1     5\n",
      "     6     2     3     1     5     4\n",
      "     6     2     3     1     4     5\n",
      "     6     2     5     3     4     1\n",
      "     6     2     5     3     1     4\n",
      "     6     2     5     4     3     1\n",
      "     6     2     5     4     1     3\n",
      "     6     2     5     1     3     4\n",
      "     6     2     5     1     4     3\n",
      "     6     2     4     3     5     1\n",
      "     6     2     4     3     1     5\n",
      "     6     2     4     5     3     1\n",
      "     6     2     4     5     1     3\n",
      "     6     2     4     1     3     5\n",
      "     6     2     4     1     5     3\n",
      "     6     2     1     3     5     4\n",
      "     6     2     1     3     4     5\n",
      "     6     2     1     5     3     4\n",
      "     6     2     1     5     4     3\n",
      "     6     2     1     4     3     5\n",
      "     6     2     1     4     5     3\n",
      "     6     4     3     5     2     1\n",
      "     6     4     3     5     1     2\n",
      "     6     4     3     2     5     1\n",
      "     6     4     3     2     1     5\n",
      "     6     4     3     1     5     2\n",
      "     6     4     3     1     2     5\n",
      "     6     4     5     3     2     1\n",
      "     6     4     5     3     1     2\n",
      "     6     4     5     2     3     1\n",
      "     6     4     5     2     1     3\n",
      "     6     4     5     1     3     2\n",
      "     6     4     5     1     2     3\n",
      "     6     4     2     3     5     1\n",
      "     6     4     2     3     1     5\n",
      "     6     4     2     5     3     1\n",
      "     6     4     2     5     1     3\n",
      "     6     4     2     1     3     5\n",
      "     6     4     2     1     5     3\n",
      "     6     4     1     3     5     2\n",
      "     6     4     1     3     2     5\n",
      "     6     4     1     5     3     2\n",
      "     6     4     1     5     2     3\n",
      "     6     4     1     2     3     5\n",
      "     6     4     1     2     5     3\n",
      "     6     1     3     5     2     4\n",
      "     6     1     3     5     4     2\n",
      "     6     1     3     2     5     4\n",
      "     6     1     3     2     4     5\n",
      "     6     1     3     4     5     2\n",
      "     6     1     3     4     2     5\n",
      "     6     1     5     3     2     4\n",
      "     6     1     5     3     4     2\n",
      "     6     1     5     2     3     4\n",
      "     6     1     5     2     4     3\n",
      "     6     1     5     4     3     2\n",
      "     6     1     5     4     2     3\n",
      "     6     1     2     3     5     4\n",
      "     6     1     2     3     4     5\n",
      "     6     1     2     5     3     4\n",
      "     6     1     2     5     4     3\n",
      "     6     1     2     4     3     5\n",
      "     6     1     2     4     5     3\n",
      "     6     1     4     3     5     2\n",
      "     6     1     4     3     2     5\n",
      "     6     1     4     5     3     2\n",
      "     6     1     4     5     2     3\n",
      "     6     1     4     2     3     5\n",
      "     6     1     4     2     5     3\n",
      "     3     6     5     2     4     1\n",
      "     3     6     5     2     1     4\n",
      "     3     6     5     4     2     1\n",
      "     3     6     5     4     1     2\n",
      "     3     6     5     1     2     4\n",
      "     3     6     5     1     4     2\n",
      "     3     6     2     5     4     1\n",
      "     3     6     2     5     1     4\n",
      "     3     6     2     4     5     1\n",
      "     3     6     2     4     1     5\n",
      "     3     6     2     1     5     4\n",
      "     3     6     2     1     4     5\n",
      "     3     6     4     5     2     1\n",
      "     3     6     4     5     1     2\n",
      "     3     6     4     2     5     1\n",
      "     3     6     4     2     1     5\n",
      "     3     6     4     1     5     2\n",
      "     3     6     4     1     2     5\n",
      "     3     6     1     5     2     4\n",
      "     3     6     1     5     4     2\n",
      "     3     6     1     2     5     4\n",
      "     3     6     1     2     4     5\n",
      "     3     6     1     4     5     2\n",
      "     3     6     1     4     2     5\n",
      "     3     5     6     2     4     1\n",
      "     3     5     6     2     1     4\n",
      "     3     5     6     4     2     1\n",
      "     3     5     6     4     1     2\n",
      "     3     5     6     1     2     4\n",
      "     3     5     6     1     4     2\n",
      "     3     5     2     6     4     1\n",
      "     3     5     2     6     1     4\n",
      "     3     5     2     4     6     1\n",
      "     3     5     2     4     1     6\n",
      "     3     5     2     1     6     4\n",
      "     3     5     2     1     4     6\n",
      "     3     5     4     6     2     1\n",
      "     3     5     4     6     1     2\n",
      "     3     5     4     2     6     1\n",
      "     3     5     4     2     1     6\n",
      "     3     5     4     1     6     2\n",
      "     3     5     4     1     2     6\n",
      "     3     5     1     6     2     4\n",
      "     3     5     1     6     4     2\n",
      "     3     5     1     2     6     4\n",
      "     3     5     1     2     4     6\n",
      "     3     5     1     4     6     2\n",
      "     3     5     1     4     2     6\n",
      "     3     2     6     5     4     1\n",
      "     3     2     6     5     1     4\n",
      "     3     2     6     4     5     1\n",
      "     3     2     6     4     1     5\n",
      "     3     2     6     1     5     4\n",
      "     3     2     6     1     4     5\n",
      "     3     2     5     6     4     1\n",
      "     3     2     5     6     1     4\n",
      "     3     2     5     4     6     1\n",
      "     3     2     5     4     1     6\n",
      "     3     2     5     1     6     4\n",
      "     3     2     5     1     4     6\n",
      "     3     2     4     6     5     1\n",
      "     3     2     4     6     1     5\n",
      "     3     2     4     5     6     1\n",
      "     3     2     4     5     1     6\n",
      "     3     2     4     1     6     5\n",
      "     3     2     4     1     5     6\n",
      "     3     2     1     6     5     4\n",
      "     3     2     1     6     4     5\n",
      "     3     2     1     5     6     4\n",
      "     3     2     1     5     4     6\n",
      "     3     2     1     4     6     5\n",
      "     3     2     1     4     5     6\n",
      "     3     4     6     5     2     1\n",
      "     3     4     6     5     1     2\n",
      "     3     4     6     2     5     1\n",
      "     3     4     6     2     1     5\n",
      "     3     4     6     1     5     2\n",
      "     3     4     6     1     2     5\n",
      "     3     4     5     6     2     1\n",
      "     3     4     5     6     1     2\n",
      "     3     4     5     2     6     1\n",
      "     3     4     5     2     1     6\n",
      "     3     4     5     1     6     2\n",
      "     3     4     5     1     2     6\n",
      "     3     4     2     6     5     1\n",
      "     3     4     2     6     1     5\n",
      "     3     4     2     5     6     1\n",
      "     3     4     2     5     1     6\n",
      "     3     4     2     1     6     5\n",
      "     3     4     2     1     5     6\n",
      "     3     4     1     6     5     2\n",
      "     3     4     1     6     2     5\n",
      "     3     4     1     5     6     2\n",
      "     3     4     1     5     2     6\n",
      "     3     4     1     2     6     5\n",
      "     3     4     1     2     5     6\n",
      "     3     1     6     5     2     4\n",
      "     3     1     6     5     4     2\n",
      "     3     1     6     2     5     4\n",
      "     3     1     6     2     4     5\n",
      "     3     1     6     4     5     2\n",
      "     3     1     6     4     2     5\n",
      "     3     1     5     6     2     4\n",
      "     3     1     5     6     4     2\n",
      "     3     1     5     2     6     4\n",
      "     3     1     5     2     4     6\n",
      "     3     1     5     4     6     2\n",
      "     3     1     5     4     2     6\n",
      "     3     1     2     6     5     4\n",
      "     3     1     2     6     4     5\n",
      "     3     1     2     5     6     4\n",
      "     3     1     2     5     4     6\n",
      "     3     1     2     4     6     5\n",
      "     3     1     2     4     5     6\n",
      "     3     1     4     6     5     2\n",
      "     3     1     4     6     2     5\n",
      "     3     1     4     5     6     2\n",
      "     3     1     4     5     2     6\n",
      "     3     1     4     2     6     5\n",
      "     3     1     4     2     5     6\n",
      "     5     6     3     2     4     1\n",
      "     5     6     3     2     1     4\n",
      "     5     6     3     4     2     1\n",
      "     5     6     3     4     1     2\n",
      "     5     6     3     1     2     4\n",
      "     5     6     3     1     4     2\n",
      "     5     6     2     3     4     1\n",
      "     5     6     2     3     1     4\n",
      "     5     6     2     4     3     1\n",
      "     5     6     2     4     1     3\n",
      "     5     6     2     1     3     4\n",
      "     5     6     2     1     4     3\n",
      "     5     6     4     3     2     1\n",
      "     5     6     4     3     1     2\n",
      "     5     6     4     2     3     1\n",
      "     5     6     4     2     1     3\n",
      "     5     6     4     1     3     2\n",
      "     5     6     4     1     2     3\n",
      "     5     6     1     3     2     4\n",
      "     5     6     1     3     4     2\n",
      "     5     6     1     2     3     4\n",
      "     5     6     1     2     4     3\n",
      "     5     6     1     4     3     2\n",
      "     5     6     1     4     2     3\n",
      "     5     3     6     2     4     1\n",
      "     5     3     6     2     1     4\n",
      "     5     3     6     4     2     1\n",
      "     5     3     6     4     1     2\n",
      "     5     3     6     1     2     4\n",
      "     5     3     6     1     4     2\n",
      "     5     3     2     6     4     1\n",
      "     5     3     2     6     1     4\n",
      "     5     3     2     4     6     1\n",
      "     5     3     2     4     1     6\n",
      "     5     3     2     1     6     4\n",
      "     5     3     2     1     4     6\n",
      "     5     3     4     6     2     1\n",
      "     5     3     4     6     1     2\n",
      "     5     3     4     2     6     1\n",
      "     5     3     4     2     1     6\n",
      "     5     3     4     1     6     2\n",
      "     5     3     4     1     2     6\n",
      "     5     3     1     6     2     4\n",
      "     5     3     1     6     4     2\n",
      "     5     3     1     2     6     4\n",
      "     5     3     1     2     4     6\n",
      "     5     3     1     4     6     2\n",
      "     5     3     1     4     2     6\n",
      "     5     2     6     3     4     1\n",
      "     5     2     6     3     1     4\n",
      "     5     2     6     4     3     1\n",
      "     5     2     6     4     1     3\n",
      "     5     2     6     1     3     4\n",
      "     5     2     6     1     4     3\n",
      "     5     2     3     6     4     1\n",
      "     5     2     3     6     1     4\n",
      "     5     2     3     4     6     1\n",
      "     5     2     3     4     1     6\n",
      "     5     2     3     1     6     4\n",
      "     5     2     3     1     4     6\n",
      "     5     2     4     6     3     1\n",
      "     5     2     4     6     1     3\n",
      "     5     2     4     3     6     1\n",
      "     5     2     4     3     1     6\n",
      "     5     2     4     1     6     3\n",
      "     5     2     4     1     3     6\n",
      "     5     2     1     6     3     4\n",
      "     5     2     1     6     4     3\n",
      "     5     2     1     3     6     4\n",
      "     5     2     1     3     4     6\n",
      "     5     2     1     4     6     3\n",
      "     5     2     1     4     3     6\n",
      "     5     4     6     3     2     1\n",
      "     5     4     6     3     1     2\n",
      "     5     4     6     2     3     1\n",
      "     5     4     6     2     1     3\n",
      "     5     4     6     1     3     2\n",
      "     5     4     6     1     2     3\n",
      "     5     4     3     6     2     1\n",
      "     5     4     3     6     1     2\n",
      "     5     4     3     2     6     1\n",
      "     5     4     3     2     1     6\n",
      "     5     4     3     1     6     2\n",
      "     5     4     3     1     2     6\n",
      "     5     4     2     6     3     1\n",
      "     5     4     2     6     1     3\n",
      "     5     4     2     3     6     1\n",
      "     5     4     2     3     1     6\n",
      "     5     4     2     1     6     3\n",
      "     5     4     2     1     3     6\n",
      "     5     4     1     6     3     2\n",
      "     5     4     1     6     2     3\n",
      "     5     4     1     3     6     2\n",
      "     5     4     1     3     2     6\n",
      "     5     4     1     2     6     3\n",
      "     5     4     1     2     3     6\n",
      "     5     1     6     3     2     4\n",
      "     5     1     6     3     4     2\n",
      "     5     1     6     2     3     4\n",
      "     5     1     6     2     4     3\n",
      "     5     1     6     4     3     2\n",
      "     5     1     6     4     2     3\n",
      "     5     1     3     6     2     4\n",
      "     5     1     3     6     4     2\n",
      "     5     1     3     2     6     4\n",
      "     5     1     3     2     4     6\n",
      "     5     1     3     4     6     2\n",
      "     5     1     3     4     2     6\n",
      "     5     1     2     6     3     4\n",
      "     5     1     2     6     4     3\n",
      "     5     1     2     3     6     4\n",
      "     5     1     2     3     4     6\n",
      "     5     1     2     4     6     3\n",
      "     5     1     2     4     3     6\n",
      "     5     1     4     6     3     2\n",
      "     5     1     4     6     2     3\n",
      "     5     1     4     3     6     2\n",
      "     5     1     4     3     2     6\n",
      "     5     1     4     2     6     3\n",
      "     5     1     4     2     3     6\n",
      "     2     6     3     5     4     1\n",
      "     2     6     3     5     1     4\n",
      "     2     6     3     4     5     1\n",
      "     2     6     3     4     1     5\n",
      "     2     6     3     1     5     4\n",
      "     2     6     3     1     4     5\n",
      "     2     6     5     3     4     1\n",
      "     2     6     5     3     1     4\n",
      "     2     6     5     4     3     1\n",
      "     2     6     5     4     1     3\n",
      "     2     6     5     1     3     4\n",
      "     2     6     5     1     4     3\n",
      "     2     6     4     3     5     1\n",
      "     2     6     4     3     1     5\n",
      "     2     6     4     5     3     1\n",
      "     2     6     4     5     1     3\n",
      "     2     6     4     1     3     5\n",
      "     2     6     4     1     5     3\n",
      "     2     6     1     3     5     4\n",
      "     2     6     1     3     4     5\n",
      "     2     6     1     5     3     4\n",
      "     2     6     1     5     4     3\n",
      "     2     6     1     4     3     5\n",
      "     2     6     1     4     5     3\n",
      "     2     3     6     5     4     1\n",
      "     2     3     6     5     1     4\n",
      "     2     3     6     4     5     1\n",
      "     2     3     6     4     1     5\n",
      "     2     3     6     1     5     4\n",
      "     2     3     6     1     4     5\n",
      "     2     3     5     6     4     1\n",
      "     2     3     5     6     1     4\n",
      "     2     3     5     4     6     1\n",
      "     2     3     5     4     1     6\n",
      "     2     3     5     1     6     4\n",
      "     2     3     5     1     4     6\n",
      "     2     3     4     6     5     1\n",
      "     2     3     4     6     1     5\n",
      "     2     3     4     5     6     1\n",
      "     2     3     4     5     1     6\n",
      "     2     3     4     1     6     5\n",
      "     2     3     4     1     5     6\n",
      "     2     3     1     6     5     4\n",
      "     2     3     1     6     4     5\n",
      "     2     3     1     5     6     4\n",
      "     2     3     1     5     4     6\n",
      "     2     3     1     4     6     5\n",
      "     2     3     1     4     5     6\n",
      "     2     5     6     3     4     1\n",
      "     2     5     6     3     1     4\n",
      "     2     5     6     4     3     1\n",
      "     2     5     6     4     1     3\n",
      "     2     5     6     1     3     4\n",
      "     2     5     6     1     4     3\n",
      "     2     5     3     6     4     1\n",
      "     2     5     3     6     1     4\n",
      "     2     5     3     4     6     1\n",
      "     2     5     3     4     1     6\n",
      "     2     5     3     1     6     4\n",
      "     2     5     3     1     4     6\n",
      "     2     5     4     6     3     1\n",
      "     2     5     4     6     1     3\n",
      "     2     5     4     3     6     1\n",
      "     2     5     4     3     1     6\n",
      "     2     5     4     1     6     3\n",
      "     2     5     4     1     3     6\n",
      "     2     5     1     6     3     4\n",
      "     2     5     1     6     4     3\n",
      "     2     5     1     3     6     4\n",
      "     2     5     1     3     4     6\n",
      "     2     5     1     4     6     3\n",
      "     2     5     1     4     3     6\n",
      "     2     4     6     3     5     1\n",
      "     2     4     6     3     1     5\n",
      "     2     4     6     5     3     1\n",
      "     2     4     6     5     1     3\n",
      "     2     4     6     1     3     5\n",
      "     2     4     6     1     5     3\n",
      "     2     4     3     6     5     1\n",
      "     2     4     3     6     1     5\n",
      "     2     4     3     5     6     1\n",
      "     2     4     3     5     1     6\n",
      "     2     4     3     1     6     5\n",
      "     2     4     3     1     5     6\n",
      "     2     4     5     6     3     1\n",
      "     2     4     5     6     1     3\n",
      "     2     4     5     3     6     1\n",
      "     2     4     5     3     1     6\n",
      "     2     4     5     1     6     3\n",
      "     2     4     5     1     3     6\n",
      "     2     4     1     6     3     5\n",
      "     2     4     1     6     5     3\n",
      "     2     4     1     3     6     5\n",
      "     2     4     1     3     5     6\n",
      "     2     4     1     5     6     3\n",
      "     2     4     1     5     3     6\n",
      "     2     1     6     3     5     4\n",
      "     2     1     6     3     4     5\n",
      "     2     1     6     5     3     4\n",
      "     2     1     6     5     4     3\n",
      "     2     1     6     4     3     5\n",
      "     2     1     6     4     5     3\n",
      "     2     1     3     6     5     4\n",
      "     2     1     3     6     4     5\n",
      "     2     1     3     5     6     4\n",
      "     2     1     3     5     4     6\n",
      "     2     1     3     4     6     5\n",
      "     2     1     3     4     5     6\n",
      "     2     1     5     6     3     4\n",
      "     2     1     5     6     4     3\n",
      "     2     1     5     3     6     4\n",
      "     2     1     5     3     4     6\n",
      "     2     1     5     4     6     3\n",
      "     2     1     5     4     3     6\n",
      "     2     1     4     6     3     5\n",
      "     2     1     4     6     5     3\n",
      "     2     1     4     3     6     5\n",
      "     2     1     4     3     5     6\n",
      "     2     1     4     5     6     3\n",
      "     2     1     4     5     3     6\n",
      "     4     6     3     5     2     1\n",
      "     4     6     3     5     1     2\n",
      "     4     6     3     2     5     1\n",
      "     4     6     3     2     1     5\n",
      "     4     6     3     1     5     2\n",
      "     4     6     3     1     2     5\n",
      "     4     6     5     3     2     1\n",
      "     4     6     5     3     1     2\n",
      "     4     6     5     2     3     1\n",
      "     4     6     5     2     1     3\n",
      "     4     6     5     1     3     2\n",
      "     4     6     5     1     2     3\n",
      "     4     6     2     3     5     1\n",
      "     4     6     2     3     1     5\n",
      "     4     6     2     5     3     1\n",
      "     4     6     2     5     1     3\n",
      "     4     6     2     1     3     5\n",
      "     4     6     2     1     5     3\n",
      "     4     6     1     3     5     2\n",
      "     4     6     1     3     2     5\n",
      "     4     6     1     5     3     2\n",
      "     4     6     1     5     2     3\n",
      "     4     6     1     2     3     5\n",
      "     4     6     1     2     5     3\n",
      "     4     3     6     5     2     1\n",
      "     4     3     6     5     1     2\n",
      "     4     3     6     2     5     1\n",
      "     4     3     6     2     1     5\n",
      "     4     3     6     1     5     2\n",
      "     4     3     6     1     2     5\n",
      "     4     3     5     6     2     1\n",
      "     4     3     5     6     1     2\n",
      "     4     3     5     2     6     1\n",
      "     4     3     5     2     1     6\n",
      "     4     3     5     1     6     2\n",
      "     4     3     5     1     2     6\n",
      "     4     3     2     6     5     1\n",
      "     4     3     2     6     1     5\n",
      "     4     3     2     5     6     1\n",
      "     4     3     2     5     1     6\n",
      "     4     3     2     1     6     5\n",
      "     4     3     2     1     5     6\n",
      "     4     3     1     6     5     2\n",
      "     4     3     1     6     2     5\n",
      "     4     3     1     5     6     2\n",
      "     4     3     1     5     2     6\n",
      "     4     3     1     2     6     5\n",
      "     4     3     1     2     5     6\n",
      "     4     5     6     3     2     1\n",
      "     4     5     6     3     1     2\n",
      "     4     5     6     2     3     1\n",
      "     4     5     6     2     1     3\n",
      "     4     5     6     1     3     2\n",
      "     4     5     6     1     2     3\n",
      "     4     5     3     6     2     1\n",
      "     4     5     3     6     1     2\n",
      "     4     5     3     2     6     1\n",
      "     4     5     3     2     1     6\n",
      "     4     5     3     1     6     2\n",
      "     4     5     3     1     2     6\n",
      "     4     5     2     6     3     1\n",
      "     4     5     2     6     1     3\n",
      "     4     5     2     3     6     1\n",
      "     4     5     2     3     1     6\n",
      "     4     5     2     1     6     3\n",
      "     4     5     2     1     3     6\n",
      "     4     5     1     6     3     2\n",
      "     4     5     1     6     2     3\n",
      "     4     5     1     3     6     2\n",
      "     4     5     1     3     2     6\n",
      "     4     5     1     2     6     3\n",
      "     4     5     1     2     3     6\n",
      "     4     2     6     3     5     1\n",
      "     4     2     6     3     1     5\n",
      "     4     2     6     5     3     1\n",
      "     4     2     6     5     1     3\n",
      "     4     2     6     1     3     5\n",
      "     4     2     6     1     5     3\n",
      "     4     2     3     6     5     1\n",
      "     4     2     3     6     1     5\n",
      "     4     2     3     5     6     1\n",
      "     4     2     3     5     1     6\n",
      "     4     2     3     1     6     5\n",
      "     4     2     3     1     5     6\n",
      "     4     2     5     6     3     1\n",
      "     4     2     5     6     1     3\n",
      "     4     2     5     3     6     1\n",
      "     4     2     5     3     1     6\n",
      "     4     2     5     1     6     3\n",
      "     4     2     5     1     3     6\n",
      "     4     2     1     6     3     5\n",
      "     4     2     1     6     5     3\n",
      "     4     2     1     3     6     5\n",
      "     4     2     1     3     5     6\n",
      "     4     2     1     5     6     3\n",
      "     4     2     1     5     3     6\n",
      "     4     1     6     3     5     2\n",
      "     4     1     6     3     2     5\n",
      "     4     1     6     5     3     2\n",
      "     4     1     6     5     2     3\n",
      "     4     1     6     2     3     5\n",
      "     4     1     6     2     5     3\n",
      "     4     1     3     6     5     2\n",
      "     4     1     3     6     2     5\n",
      "     4     1     3     5     6     2\n",
      "     4     1     3     5     2     6\n",
      "     4     1     3     2     6     5\n",
      "     4     1     3     2     5     6\n",
      "     4     1     5     6     3     2\n",
      "     4     1     5     6     2     3\n",
      "     4     1     5     3     6     2\n",
      "     4     1     5     3     2     6\n",
      "     4     1     5     2     6     3\n",
      "     4     1     5     2     3     6\n",
      "     4     1     2     6     3     5\n",
      "     4     1     2     6     5     3\n",
      "     4     1     2     3     6     5\n",
      "     4     1     2     3     5     6\n",
      "     4     1     2     5     6     3\n",
      "     4     1     2     5     3     6\n",
      "     1     6     3     5     2     4\n",
      "     1     6     3     5     4     2\n",
      "     1     6     3     2     5     4\n",
      "     1     6     3     2     4     5\n",
      "     1     6     3     4     5     2\n",
      "     1     6     3     4     2     5\n",
      "     1     6     5     3     2     4\n",
      "     1     6     5     3     4     2\n",
      "     1     6     5     2     3     4\n",
      "     1     6     5     2     4     3\n",
      "     1     6     5     4     3     2\n",
      "     1     6     5     4     2     3\n",
      "     1     6     2     3     5     4\n",
      "     1     6     2     3     4     5\n",
      "     1     6     2     5     3     4\n",
      "     1     6     2     5     4     3\n",
      "     1     6     2     4     3     5\n",
      "     1     6     2     4     5     3\n",
      "     1     6     4     3     5     2\n",
      "     1     6     4     3     2     5\n",
      "     1     6     4     5     3     2\n",
      "     1     6     4     5     2     3\n",
      "     1     6     4     2     3     5\n",
      "     1     6     4     2     5     3\n",
      "     1     3     6     5     2     4\n",
      "     1     3     6     5     4     2\n",
      "     1     3     6     2     5     4\n",
      "     1     3     6     2     4     5\n",
      "     1     3     6     4     5     2\n",
      "     1     3     6     4     2     5\n",
      "     1     3     5     6     2     4\n",
      "     1     3     5     6     4     2\n",
      "     1     3     5     2     6     4\n",
      "     1     3     5     2     4     6\n",
      "     1     3     5     4     6     2\n",
      "     1     3     5     4     2     6\n",
      "     1     3     2     6     5     4\n",
      "     1     3     2     6     4     5\n",
      "     1     3     2     5     6     4\n",
      "     1     3     2     5     4     6\n",
      "     1     3     2     4     6     5\n",
      "     1     3     2     4     5     6\n",
      "     1     3     4     6     5     2\n",
      "     1     3     4     6     2     5\n",
      "     1     3     4     5     6     2\n",
      "     1     3     4     5     2     6\n",
      "     1     3     4     2     6     5\n",
      "     1     3     4     2     5     6\n",
      "     1     5     6     3     2     4\n",
      "     1     5     6     3     4     2\n",
      "     1     5     6     2     3     4\n",
      "     1     5     6     2     4     3\n",
      "     1     5     6     4     3     2\n",
      "     1     5     6     4     2     3\n",
      "     1     5     3     6     2     4\n",
      "     1     5     3     6     4     2\n",
      "     1     5     3     2     6     4\n",
      "     1     5     3     2     4     6\n",
      "     1     5     3     4     6     2\n",
      "     1     5     3     4     2     6\n",
      "     1     5     2     6     3     4\n",
      "     1     5     2     6     4     3\n",
      "     1     5     2     3     6     4\n",
      "     1     5     2     3     4     6\n",
      "     1     5     2     4     6     3\n",
      "     1     5     2     4     3     6\n",
      "     1     5     4     6     3     2\n",
      "     1     5     4     6     2     3\n",
      "     1     5     4     3     6     2\n",
      "     1     5     4     3     2     6\n",
      "     1     5     4     2     6     3\n",
      "     1     5     4     2     3     6\n",
      "     1     2     6     3     5     4\n",
      "     1     2     6     3     4     5\n",
      "     1     2     6     5     3     4\n",
      "     1     2     6     5     4     3\n",
      "     1     2     6     4     3     5\n",
      "     1     2     6     4     5     3\n",
      "     1     2     3     6     5     4\n",
      "     1     2     3     6     4     5\n",
      "     1     2     3     5     6     4\n",
      "     1     2     3     5     4     6\n",
      "     1     2     3     4     6     5\n",
      "     1     2     3     4     5     6\n",
      "     1     2     5     6     3     4\n",
      "     1     2     5     6     4     3\n",
      "     1     2     5     3     6     4\n",
      "     1     2     5     3     4     6\n",
      "     1     2     5     4     6     3\n",
      "     1     2     5     4     3     6\n",
      "     1     2     4     6     3     5\n",
      "     1     2     4     6     5     3\n",
      "     1     2     4     3     6     5\n",
      "     1     2     4     3     5     6\n",
      "     1     2     4     5     6     3\n",
      "     1     2     4     5     3     6\n",
      "     1     4     6     3     5     2\n",
      "     1     4     6     3     2     5\n",
      "     1     4     6     5     3     2\n",
      "     1     4     6     5     2     3\n",
      "     1     4     6     2     3     5\n",
      "     1     4     6     2     5     3\n",
      "     1     4     3     6     5     2\n",
      "     1     4     3     6     2     5\n",
      "     1     4     3     5     6     2\n",
      "     1     4     3     5     2     6\n",
      "     1     4     3     2     6     5\n",
      "     1     4     3     2     5     6\n",
      "     1     4     5     6     3     2\n",
      "     1     4     5     6     2     3\n",
      "     1     4     5     3     6     2\n",
      "     1     4     5     3     2     6\n",
      "     1     4     5     2     6     3\n",
      "     1     4     5     2     3     6\n",
      "     1     4     2     6     3     5\n",
      "     1     4     2     6     5     3\n",
      "     1     4     2     3     6     5\n",
      "     1     4     2     3     5     6\n",
      "     1     4     2     5     6     3\n",
      "     1     4     2     5     3     6\n",
      "\n",
      "\n"
     ]
    }
   ],
   "source": [
    "P = perms([1 2 3; 4 5 6])"
   ]
  },
  {
   "cell_type": "code",
   "execution_count": 2,
   "metadata": {},
   "outputs": [
    {
     "name": "stdout",
     "output_type": "stream",
     "text": [
      "\n",
      "ans =\n",
      "\n",
      "   720     6\n",
      "\n",
      "\n"
     ]
    }
   ],
   "source": [
    "size(P)"
   ]
  },
  {
   "cell_type": "markdown",
   "metadata": {},
   "source": [
    "randperm(max,sayı miktarı)"
   ]
  },
  {
   "cell_type": "code",
   "execution_count": 3,
   "metadata": {},
   "outputs": [
    {
     "name": "stdout",
     "output_type": "stream",
     "text": [
      "\n",
      "ans =\n",
      "\n",
      "     2     3\n",
      "\n",
      "\n"
     ]
    }
   ],
   "source": [
    "randperm(4,2)"
   ]
  },
  {
   "cell_type": "code",
   "execution_count": 4,
   "metadata": {},
   "outputs": [
    {
     "name": "stdout",
     "output_type": "stream",
     "text": [
      "\n",
      "ans =\n",
      "\n",
      "     8\n",
      "\n",
      "\n"
     ]
    }
   ],
   "source": [
    "sum([1 3 4])"
   ]
  },
  {
   "cell_type": "code",
   "execution_count": 5,
   "metadata": {},
   "outputs": [
    {
     "name": "stdout",
     "output_type": "stream",
     "text": [
      "\n",
      "ans =\n",
      "\n",
      "     8\n",
      "\n",
      "\n"
     ]
    }
   ],
   "source": [
    "sum([1;3;4])"
   ]
  },
  {
   "cell_type": "code",
   "execution_count": 6,
   "metadata": {},
   "outputs": [
    {
     "name": "stdout",
     "output_type": "stream",
     "text": [
      "\n",
      "A =\n",
      "\n",
      "     1     3     5\n",
      "     2     4     6\n",
      "\n",
      "\n"
     ]
    }
   ],
   "source": [
    "A = [1 3 5; 2 4 6]"
   ]
  },
  {
   "cell_type": "code",
   "execution_count": 7,
   "metadata": {},
   "outputs": [
    {
     "name": "stdout",
     "output_type": "stream",
     "text": [
      "\n",
      "ans =\n",
      "\n",
      "     3     7    11\n",
      "\n",
      "\n"
     ]
    }
   ],
   "source": [
    "sum(A)"
   ]
  },
  {
   "cell_type": "code",
   "execution_count": 8,
   "metadata": {},
   "outputs": [
    {
     "name": "stdout",
     "output_type": "stream",
     "text": [
      "\n",
      "ans =\n",
      "\n",
      "     1     3     5\n",
      "     2     4     6\n",
      "\n",
      "\n"
     ]
    }
   ],
   "source": [
    "sort(A)"
   ]
  },
  {
   "cell_type": "code",
   "execution_count": 9,
   "metadata": {},
   "outputs": [
    {
     "name": "stdout",
     "output_type": "stream",
     "text": [
      "\n",
      "ans =\n",
      "\n",
      "    -2     0     6    10\n",
      "\n",
      "\n"
     ]
    }
   ],
   "source": [
    "sort([-2 10 0 6])"
   ]
  },
  {
   "cell_type": "code",
   "execution_count": 10,
   "metadata": {},
   "outputs": [
    {
     "name": "stdout",
     "output_type": "stream",
     "text": [
      "\n",
      "ans =\n",
      "\n",
      "     2     4     6\n",
      "\n",
      "\n"
     ]
    }
   ],
   "source": [
    "max(A)"
   ]
  },
  {
   "cell_type": "code",
   "execution_count": 11,
   "metadata": {},
   "outputs": [
    {
     "name": "stdout",
     "output_type": "stream",
     "text": [
      "\n",
      "ans =\n",
      "\n",
      "     1     3     5\n",
      "\n",
      "\n"
     ]
    }
   ],
   "source": [
    "min(A)"
   ]
  },
  {
   "cell_type": "code",
   "execution_count": 12,
   "metadata": {},
   "outputs": [
    {
     "name": "stdout",
     "output_type": "stream",
     "text": [
      "\n",
      "C =\n",
      "\n",
      "     1     2     3\n",
      "\n",
      "\n",
      "ans =\n",
      "\n",
      "     2\n",
      "\n",
      "\n"
     ]
    }
   ],
   "source": [
    "C = [1 2 3]\n",
    "sum(C)/numel(C)"
   ]
  },
  {
   "cell_type": "code",
   "execution_count": 13,
   "metadata": {},
   "outputs": [
    {
     "name": "stdout",
     "output_type": "stream",
     "text": [
      "\n",
      "ans =\n",
      "\n",
      "     1\n",
      "\n",
      "\n"
     ]
    }
   ],
   "source": [
    "rank(C)"
   ]
  },
  {
   "cell_type": "code",
   "execution_count": 14,
   "metadata": {},
   "outputs": [
    {
     "name": "stdout",
     "output_type": "stream",
     "text": [
      "\n",
      "ans =\n",
      "\n",
      "     2\n",
      "\n",
      "\n"
     ]
    }
   ],
   "source": [
    "rank(A) "
   ]
  },
  {
   "cell_type": "code",
   "execution_count": 15,
   "metadata": {},
   "outputs": [
    {
     "name": "stderr",
     "output_type": "stream",
     "text": [
      "\u001b[1;31mUnrecognized function or variable 'B'.\n",
      "\n",
      "\u001b[0m"
     ]
    }
   ],
   "source": [
    "rank(B)"
   ]
  },
  {
   "cell_type": "code",
   "execution_count": null,
   "metadata": {},
   "outputs": [],
   "source": []
  },
  {
   "cell_type": "code",
   "execution_count": null,
   "metadata": {},
   "outputs": [],
   "source": []
  },
  {
   "cell_type": "code",
   "execution_count": null,
   "metadata": {},
   "outputs": [],
   "source": []
  }
 ],
 "metadata": {
  "kernelspec": {
   "display_name": "Matlab (Connection)",
   "language": "matlab",
   "name": "matlab_connect"
  },
  "language_info": {
   "codemirror_mode": "octave",
   "file_extension": ".m",
   "help_links": [
    {
     "text": "MetaKernel Magics",
     "url": "https://metakernel.readthedocs.io/en/latest/source/README.html"
    }
   ],
   "mimetype": "text/x-octave",
   "name": "matlab",
   "version": "0.17.1"
  }
 },
 "nbformat": 4,
 "nbformat_minor": 2
}
