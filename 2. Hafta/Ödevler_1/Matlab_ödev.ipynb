{
 "cells": [
  {
   "cell_type": "markdown",
    "metadata": {},
   "source": [
    "Sorudaki denklemler\n",
    "\n",
    "1. denklem:\n",
    "20*(I1-I2) + 10*(I1-I3) - 24 = 0\n",
    "2. denklem:\n",
    "20*(I2-I1) + 60*(I2) + 40*(I2-I3) = 0\n",
    "3. denklem:\n",
    "10*(I3-I1) + 40*(I3-I2) + 50*(I3) + 20*(I3) = 0"
   ]
  },
  {
   "cell_type": "markdown",
   "metadata": {},
   "source": [
    "Denklemlerin Matris formatında çözülebileek hale getirilmesi"
   ]
  },
  {
   "cell_type": "markdown",
   "metadata": {},
   "source": [
    "1. denklem: \n",
    "30*(I1) - 20*(I2) - 10*(I3) = 24\n",
    "\n",
    "2. denklem:\n",
    "-20*(I1) + 120*(I2) - 40*(I3) = 0\n",
    "\n",
    "3. denklem:\n",
    "-10*(I1) - 40*(I2) + 120*(I3) = 0"
   ]
  },
  {
   "cell_type": "markdown",
   "metadata": {},
   "source": [
    "Buradan da R, I, V matrislerini belirtecek olursak:\n",
    "\n",
    "I: İstenen değerler\n",
    "\n",
    "R: yukarıdaki denklemlerdeki I(1-2-3) katsayıları\n",
    "\n",
    "V: Eşitlikten sonra gelen soldaki değerler"
   ]
  },
  {
   "cell_type": "markdown",
   "metadata": {},
   "source": [
    "|  30 -20 -10 |  X  | I1 | = | 24 |\n",
    "\n",
    "| -20 120 -40 | X   | I2 | = | 0  |\n",
    "\n",
    "| -10 -40 120 |  X  | I3 | = | 0  |\n",
    "\n",
    "R değerleri, 3x3 lük matris; I ve V değerleri, 3x1 lik matris halinde gösterilmiştir"
   ]
  },
  {
   "cell_type": "markdown",
   "metadata": {},
   "source": [
    "Denklemleri Matlab dilinde tanımlayalım"
   ]
  },
  {
   "cell_type": "code",
   "execution_count": 1,
   "metadata": {},
   "outputs": [
    {
     "name": "stdout",
     "output_type": "stream",
     "text": [
      "\n"
     ]
    }
   ],
   "source": [
    "R = [30 -20 -10; -20 120 -40; -10 -40 120];\n",
    "E = [24; 0; 0];"
   ]
  },
  {
   "cell_type": "markdown",
   "metadata": {},
   "source": [
    "Şimdi isteden 10 farklı yöntemden 9 tanesini burada gösterelim"
   ]
  },
  {
   "cell_type": "markdown",
   "metadata": {},
   "source": [
    "1. Yöntem"
   ]
  },
  {
   "cell_type": "code",
   "execution_count": 2,
   "metadata": {},
   "outputs": [
    {
     "name": "stdout",
     "output_type": "stream",
     "text": [
      "\n",
      "I =\n",
      "\n",
      "    0.9974    0.2182    0.1558\n",
      "         0         0         0\n",
      "         0         0         0\n",
      "\n",
      "\n"
     ]
    }
   ],
   "source": [
    "I = inv(R).*E"
   ]
  },
  {
   "cell_type": "markdown",
   "metadata": {},
   "source": [
    "2. Yöntem"
   ]
  },
  {
   "cell_type": "code",
   "execution_count": 6,
   "metadata": {},
   "outputs": [
    {
     "name": "stdout",
     "output_type": "stream",
     "text": [
      "\n",
      "I =\n",
      "\n",
      "    1.2500   -0.8333   -0.4167\n",
      "      -Inf       Inf      -Inf\n",
      "      -Inf      -Inf       Inf\n",
      "\n",
      "\n"
     ]
    }
   ],
   "source": [
    "I = R./E"
   ]
  },
  {
   "cell_type": "markdown",
   "metadata": {},
   "source": [
    "3. Yöntem"
   ]
  },
  {
   "cell_type": "code",
   "execution_count": 8,
   "metadata": {},
   "outputs": [
    {
     "name": "stdout",
     "output_type": "stream",
     "text": [
      "\n",
      "I =\n",
      "\n",
      "    0.9974    0.2182    0.1558\n",
      "         0         0         0\n",
      "         0         0         0\n",
      "\n",
      "\n"
     ]
    }
   ],
   "source": [
    "I = E.*inv(R)"
   ]
  },
  {
   "cell_type": "markdown",
   "metadata": {},
   "source": [
    "4. Yöntem"
   ]
  },
  {
   "cell_type": "code",
   "execution_count": 9,
   "metadata": {},
   "outputs": [
    {
     "name": "stdout",
     "output_type": "stream",
     "text": [
      "\n",
      "I =\n",
      "\n",
      "    0.8000   -1.2000   -2.4000\n",
      "         0         0         0\n",
      "         0         0         0\n",
      "\n",
      "\n"
     ]
    }
   ],
   "source": [
    "I = E./R"
   ]
  },
  {
   "cell_type": "markdown",
   "metadata": {},
   "source": [
    "5. Yöntem"
   ]
  },
  {
   "cell_type": "code",
   "execution_count": 11,
   "metadata": {},
   "outputs": [
    {
     "name": "stdout",
     "output_type": "stream",
     "text": [
      "\n",
      "MI1 =\n",
      "\n",
      "    24   -20   -10\n",
      "     0   120   -40\n",
      "     0   -40   120\n",
      "\n",
      "\n",
      "I1 =\n",
      "\n",
      "    0.9974\n",
      "\n",
      "\n"
     ]
    }
   ],
   "source": [
    "\n",
    "MI1 = [E R(:,[2,3])]\n",
    "\n",
    "I1 = det(MI1)./det(R)"
   ]
  },
  {
   "cell_type": "code",
   "execution_count": 13,
   "metadata": {},
   "outputs": [
    {
     "name": "stdout",
     "output_type": "stream",
     "text": [
      "\n",
      "MI2 =\n",
      "\n",
      "    30    24   -10\n",
      "   -20     0   -40\n",
      "   -10     0   120\n",
      "\n",
      "\n",
      "I2 =\n",
      "\n",
      "    0.2182\n",
      "\n",
      "\n"
     ]
    }
   ],
   "source": [
    "MI2 = [R(:,1) E R(:,3)]\n",
    "\n",
    "I2 = det(MI2)./det(R)"
   ]
  },
  {
   "cell_type": "code",
   "execution_count": 15,
   "metadata": {},
   "outputs": [
    {
     "name": "stdout",
     "output_type": "stream",
     "text": [
      "\n",
      "MI3 =\n",
      "\n",
      "    30   -20    24\n",
      "   -20   120     0\n",
      "   -10   -40     0\n",
      "\n",
      "\n",
      "I3 =\n",
      "\n",
      "    0.1558\n",
      "\n",
      "\n"
     ]
    }
   ],
   "source": [
    "MI3 = [R(:,[1 2]) E]\n",
    "\n",
    "I3 = det(MI3)./det(R)"
   ]
  },
  {
   "cell_type": "markdown",
   "metadata": {},
   "source": [
    "6. Yöntem"
   ]
  },
  {
   "cell_type": "code",
   "execution_count": 16,
   "metadata": {},
   "outputs": [
    {
     "name": "stdout",
     "output_type": "stream",
     "text": [
      "\n",
      "ans =\n",
      "\n",
      "    1.0000         0         0    0.9974\n",
      "         0    1.0000         0    0.2182\n",
      "         0         0    1.0000    0.1558\n",
      "\n",
      "\n"
     ]
    }
   ],
   "source": [
    "rref([R E])"
   ]
  },
  {
   "cell_type": "markdown",
   "metadata": {},
   "source": [
    "7. Yöntem"
   ]
  },
  {
   "cell_type": "code",
   "execution_count": 17,
   "metadata": {},
   "outputs": [
    {
     "name": "stdout",
     "output_type": "stream",
     "text": [
      "\n",
      "ans =\n",
      "\n",
      "    0.9974\n",
      "    0.2182\n",
      "    0.1558\n",
      "\n",
      "\n"
     ]
    }
   ],
   "source": [
    "linsolve(R,E)"
   ]
  },
  {
   "cell_type": "markdown",
   "metadata": {},
   "source": [
    "8. Yöntem"
   ]
  },
  {
   "cell_type": "code",
   "execution_count": 19,
   "metadata": {},
   "outputs": [
    {
     "name": "stdout",
     "output_type": "stream",
     "text": [
      "\n",
      "L =\n",
      "\n",
      "    1.0000         0         0\n",
      "   -0.6667    1.0000         0\n",
      "   -0.3333   -0.4375    1.0000\n",
      "\n",
      "\n",
      "U =\n",
      "\n",
      "   30.0000  -20.0000  -10.0000\n",
      "         0  106.6667  -46.6667\n",
      "         0         0   96.2500\n",
      "\n",
      "\n",
      "I =\n",
      "\n",
      "    0.8000         0         0\n",
      "         0         0         0\n",
      "         0         0         0\n",
      "\n",
      "\n"
     ]
    }
   ],
   "source": [
    "[L U] = lu(R)\n",
    "\n",
    "I = inv(U).*inv(L).*E"
   ]
  },
  {
   "cell_type": "markdown",
   "metadata": {},
   "source": [
    "9. Yöntem"
   ]
  },
  {
   "cell_type": "code",
   "execution_count": 20,
   "metadata": {},
   "outputs": [
    {
     "name": "stdout",
     "output_type": "stream",
     "text": [
      "\n",
      "I = \n",
      "\n",
      "  struct with fields:\n",
      "\n",
      "    I1: 384/385\n",
      "    I2: 12/55\n",
      "    I3: 12/77\n",
      "\n",
      "\n"
     ]
    }
   ],
   "source": [
    "syms I1 I2 I3\n",
    "\n",
    "I = solve(30*(I1) - 20*(I2) - 10*(I3) == 24,...\n",
    "-20*(I1) + 120*(I2) - 40*(I3) == 0,...\n",
    "-10*(I1) - 40*(I2) + 120*(I3) == 0,...\n",
    "I1,I2,I3)"
   ]
  },
  {
   "cell_type": "code",
   "execution_count": null,
   "metadata": {},
   "outputs": [],
   "source": []
  }
 ],
 "metadata": {
  "kernelspec": {
   "display_name": "Matlab (Connection)",
   "language": "matlab",
   "name": "matlab_connect"
  },
  "language_info": {
   "codemirror_mode": "octave",
   "file_extension": ".m",
   "help_links": [
    {
     "text": "MetaKernel Magics",
     "url": "https://metakernel.readthedocs.io/en/latest/source/README.html"
    }
   ],
   "mimetype": "text/x-octave",
   "name": "matlab",
   "version": "0.17.1"
  }
 },
 "nbformat": 4,
 "nbformat_minor": 2
}
