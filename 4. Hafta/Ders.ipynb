{
 "cells": [
  {
   "cell_type": "markdown",
   "metadata": {},
   "source": []
  },
  {
   "cell_type": "code",
   "execution_count": null,
   "metadata": {},
   "outputs": [],
   "source": []
  },
  {
   "cell_type": "code",
   "execution_count": null,
   "metadata": {},
   "outputs": [],
   "source": []
  },
  {
   "cell_type": "code",
   "execution_count": null,
   "metadata": {},
   "outputs": [
    {
     "ename": "",
     "evalue": "",
     "output_type": "error",
     "traceback": [
      "\u001b[1;31mFailed to start the Kernel. \n",
      "\u001b[1;31mRuntimeError: Could not find directory: D:\\MATLAB\\R2024a\\extern\\engines\\python\\dist\\matlab\\engine\\win64. \n",
      "\u001b[1;31mView Jupyter <a href='command:jupyter.viewOutput'>log</a> for further details."
     ]
    }
   ],
   "source": [
    "w = 3;\n",
    "T = 2*pi/w\n",
    "t = linspace(0,2*T)\n",
    "f = 5*sin(w*t)\n",
    "plot(t,f)"
   ]
  },
  {
   "cell_type": "code",
   "execution_count": null,
   "metadata": {},
   "outputs": [
    {
     "name": "stdout",
     "output_type": "stream",
     "text": [
      "\n",
      "t =\n",
      "\n",
      "  Columns 1 through 13\n",
      "\n",
      "         0    0.1010    0.2020    0.3030    0.4040    0.5051    0.6061    0.7071    0.8081    0.9091    1.0101    1.1111    1.2121\n",
      "\n",
      "  Columns 14 through 26\n",
      "\n",
      "    1.3131    1.4141    1.5152    1.6162    1.7172    1.8182    1.9192    2.0202    2.1212    2.2222    2.3232    2.4242    2.5253\n",
      "\n",
      "  Columns 27 through 39\n",
      "\n",
      "    2.6263    2.7273    2.8283    2.9293    3.0303    3.1313    3.2323    3.3333    3.4343    3.5354    3.6364    3.7374    3.8384\n",
      "\n",
      "  Columns 40 through 52\n",
      "\n",
      "    3.9394    4.0404    4.1414    4.2424    4.3434    4.4444    4.5455    4.6465    4.7475    4.8485    4.9495    5.0505    5.1515\n",
      "\n",
      "  Columns 53 through 65\n",
      "\n",
      "    5.2525    5.3535    5.4545    5.5556    5.6566    5.7576    5.8586    5.9596    6.0606    6.1616    6.2626    6.3636    6.4646\n",
      "\n",
      "  Columns 66 through 78\n",
      "\n",
      "    6.5657    6.6667    6.7677    6.8687    6.9697    7.0707    7.1717    7.2727    7.3737    7.4747    7.5758    7.6768    7.7778\n",
      "\n",
      "  Columns 79 through 91\n",
      "\n",
      "    7.8788    7.9798    8.0808    8.1818    8.2828    8.3838    8.4848    8.5859    8.6869    8.7879    8.8889    8.9899    9.0909\n",
      "\n",
      "  Columns 92 through 100\n",
      "\n",
      "    9.1919    9.2929    9.3939    9.4949    9.5960    9.6970    9.7980    9.8990   10.0000\n",
      "\n",
      "\n",
      "f =\n",
      "\n",
      "  Columns 1 through 13\n",
      "\n",
      "         0    1.4921    2.8482    3.9447    4.6818    4.9923    4.8478    4.2615    3.2870    2.0128    0.5553   -0.9528   -2.3742\n",
      "\n",
      "  Columns 14 through 26\n",
      "\n",
      "   -3.5791   -4.4579   -4.9305   -4.9538   -4.5256   -3.6851   -2.5087   -1.1037    0.4018    1.8708    3.1692    4.1789    4.8077\n",
      "\n",
      "  Columns 27 through 39\n",
      "\n",
      "    4.9985    4.7337    4.0376    2.9735    1.6385    0.1542   -1.3442   -2.7201   -3.8481   -4.6255   -4.9813   -4.8832   -4.3401\n",
      "\n",
      "  Columns 40 through 52\n",
      "\n",
      "   -3.4016   -2.1530   -0.7083    0.8010    2.2373    3.4698    4.3860    4.9025    4.9723    4.5890    3.7875    2.6409    1.2536\n",
      "\n",
      "  Columns 53 through 65\n",
      "\n",
      "   -0.2480   -1.7269   -3.0485   -4.0922   -4.7631   -4.9999   -4.7811   -4.1266   -3.0961   -1.7834   -0.3082    1.1951    2.5895\n",
      "\n",
      "  Columns 66 through 78\n",
      "\n",
      "    3.7479    4.5647    4.9656    4.9140    4.4146    3.5129    2.2911    0.8605   -0.6485   -2.0984   -3.3571   -4.3099   -4.8699\n",
      "\n",
      "  Columns 79 through 91\n",
      "\n",
      "   -4.9862   -4.6480   -3.8864   -2.7705   -1.4022    0.0939    1.5814    2.9248    4.0017    4.7139    4.9966    4.8239    4.2117\n",
      "\n",
      "  Columns 92 through 100\n",
      "\n",
      "    3.2156    1.9266    0.4619   -1.0448   -2.4563   -3.6440   -4.4996   -4.9452   -4.9402\n",
      "\n",
      "\n"
     ]
    },
    {
     "data": {
      "image/png": "[encoded data removed]",
      "text/plain": [
       "<IPython.core.display.Image object>"
      ]
     },
     "metadata": {},
     "output_type": "display_data"
    }
   ],
   "source": [
    "t = linspace(0,10)\n",
    "f = 5*sin(w*t)\n",
    "plot(t,f)"
   ]
  },
  {
   "cell_type": "code",
   "execution_count": null,
   "metadata": {},
   "outputs": [
    {
     "ename": "",
     "evalue": "",
     "output_type": "error",
     "traceback": [
      "\u001b[1;31mThe kernel failed to start due to the missing module 'matlabengineforpython3_9'. Consider installing this module.\n",
      "\u001b[1;31mClick <a href='https://aka.ms/kernelFailuresMissingModule'>here</a> for more info."
     ]
    }
   ],
   "source": [
    "t = linspace(0,2*T)\n",
    "f = 5*sin(w*t)\n",
    "plot(t,f)\n",
    "\n",
    "xlabel('Time (seconds)')\n",
    "ylabel('f(t)')\n",
    "title(\"Result of f(t) = 5sin(\\omega t)\")\n",
    "title(\"Result of f(t) = 5sin(\\omega t + \\phi)\")\n",
    "text(1, 5, 4, \"f(t) = 5sin(\\omega t)\")\n",
    "gtext(\"f(t) = 5sin(\\omega t)\")\n",
    "clf"
   ]
  },
  {
   "cell_type": "code",
   "execution_count": null,
   "metadata": {},
   "outputs": [
    {
     "ename": "",
     "evalue": "",
     "output_type": "error",
     "traceback": [
      "\u001b[1;31mThe kernel failed to start due to the missing module 'matlabengineforpython3_9'. Consider installing this module.\n",
      "\u001b[1;31mClick <a href='https://aka.ms/kernelFailuresMissingModule'>here</a> for more info."
     ]
    }
   ],
   "source": [
    "plot(t,f)\n",
    "xlabel(\"Time (seconds)\")"
   ]
  },
  {
   "cell_type": "code",
   "execution_count": null,
   "metadata": {},
   "outputs": [],
   "source": []
  }
 ],
 "metadata": {
  "kernelspec": {
   "display_name": "Matlab (Connection)",
   "language": "matlab",
   "name": "matlab_connect"
  },
  "language_info": {
   "codemirror_mode": "octave",
   "file_extension": ".m",
   "help_links": [
    {
     "text": "MetaKernel Magics",
     "url": "https://metakernel.readthedocs.io/en/latest/source/README.html"
    }
   ],
   "mimetype": "text/x-octave",
   "name": "matlab",
   "version": "0.17.1"
  }
 },
 "nbformat": 4,
 "nbformat_minor": 2
}
