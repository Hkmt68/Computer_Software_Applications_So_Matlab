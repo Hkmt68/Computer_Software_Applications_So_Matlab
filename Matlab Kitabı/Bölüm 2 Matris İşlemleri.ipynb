{
 "cells": [
  {
   "cell_type": "markdown",
   "metadata": {},
   "source": [
    "***Çalışma Soruları"
   ]
  },
  {
   "cell_type": "markdown",
   "metadata": {},
   "source": [
    "1. Soru\n"
   ]
  },
  {
   "cell_type": "code",
   "execution_count": 1,
   "metadata": {},
   "outputs": [
    {
     "name": "stdout",
     "output_type": "stream",
     "text": [
      "\n",
      "A =\n",
      "\n",
      "   2.0000 + 0.0000i   4.0000 + 0.0000i   7.0000 + 0.0000i  35.0000 + 3.0000i   1.0095 + 0.0000i   4.7958 + 0.0000i   1.0000 + 0.0000i\n",
      "\n",
      "\n"
     ]
    }
   ],
   "source": [
    "A = [2 4 7 35+3j 5*exp(-1.6) sqrt(23) sin(pi/2)]"
   ]
  },
  {
   "cell_type": "markdown",
   "metadata": {},
   "source": [
    "2. Soru\n"
   ]
  },
  {
   "cell_type": "code",
   "execution_count": 2,
   "metadata": {},
   "outputs": [
    {
     "name": "stdout",
     "output_type": "stream",
     "text": [
      "\n",
      "A =\n",
      "\n",
      "     1     2     3     4     5     6     7     8     9    10\n",
      "\n",
      "\n"
     ]
    }
   ],
   "source": [
    "A = [1:10]"
   ]
  },
  {
   "cell_type": "code",
   "execution_count": 3,
   "metadata": {},
   "outputs": [
    {
     "name": "stdout",
     "output_type": "stream",
     "text": [
      "\n",
      "A =\n",
      "\n",
      "     1     3     5     7     9\n",
      "\n",
      "\n"
     ]
    }
   ],
   "source": [
    "A = [1:2:10]"
   ]
  },
  {
   "cell_type": "code",
   "execution_count": 4,
   "metadata": {},
   "outputs": [
    {
     "name": "stdout",
     "output_type": "stream",
     "text": [
      "\n",
      "A =\n",
      "\n",
      "     2     4     6     8    10\n",
      "\n",
      "\n"
     ]
    }
   ],
   "source": [
    "A = [2:2:10]"
   ]
  },
  {
   "cell_type": "markdown",
   "metadata": {},
   "source": [
    "3. Soru"
   ]
  },
  {
   "cell_type": "code",
   "execution_count": 5,
   "metadata": {},
   "outputs": [
    {
     "name": "stdout",
     "output_type": "stream",
     "text": [
      "\n",
      "A =\n",
      "\n",
      "  Columns 1 through 13\n",
      "\n",
      "    1.0000    1.5000    2.0000    2.5000    3.0000    3.5000    4.0000    4.5000    5.0000    5.5000    6.0000    6.5000    7.0000\n",
      "\n",
      "  Columns 14 through 19\n",
      "\n",
      "    7.5000    8.0000    8.5000    9.0000    9.5000   10.0000\n",
      "\n",
      "\n"
     ]
    }
   ],
   "source": [
    "A = [1:0.5:10]"
   ]
  },
  {
   "cell_type": "code",
   "execution_count": 7,
   "metadata": {},
   "outputs": [
    {
     "name": "stdout",
     "output_type": "stream",
     "text": [
      "\n",
      "A =\n",
      "\n",
      "  Columns 1 through 13\n",
      "\n",
      "    5.0000    4.7500    4.5000    4.2500    4.0000    3.7500    3.5000    3.2500    3.0000    2.7500    2.5000    2.2500    2.0000\n",
      "\n",
      "  Columns 14 through 17\n",
      "\n",
      "    1.7500    1.5000    1.2500    1.0000\n",
      "\n",
      "\n"
     ]
    }
   ],
   "source": [
    "A = [5:-0.25:1]"
   ]
  },
  {
   "cell_type": "code",
   "execution_count": 8,
   "metadata": {},
   "outputs": [
    {
     "name": "stdout",
     "output_type": "stream",
     "text": [
      "\n",
      "A =\n",
      "\n",
      "  Columns 1 through 13\n",
      "\n",
      "         0    0.1681    0.3361    0.5042    0.6723    0.8403    1.0084    1.1765    1.3445    1.5126    1.6807    1.8487    2.0168\n",
      "\n",
      "  Columns 14 through 26\n",
      "\n",
      "    2.1849    2.3529    2.5210    2.6891    2.8571    3.0252    3.1933    3.3613    3.5294    3.6975    3.8655    4.0336    4.2017\n",
      "\n",
      "  Columns 27 through 39\n",
      "\n",
      "    4.3697    4.5378    4.7059    4.8739    5.0420    5.2101    5.3782    5.5462    5.7143    5.8824    6.0504    6.2185    6.3866\n",
      "\n",
      "  Columns 40 through 52\n",
      "\n",
      "    6.5546    6.7227    6.8908    7.0588    7.2269    7.3950    7.5630    7.7311    7.8992    8.0672    8.2353    8.4034    8.5714\n",
      "\n",
      "  Columns 53 through 65\n",
      "\n",
      "    8.7395    8.9076    9.0756    9.2437    9.4118    9.5798    9.7479    9.9160   10.0840   10.2521   10.4202   10.5882   10.7563\n",
      "\n",
      "  Columns 66 through 78\n",
      "\n",
      "   10.9244   11.0924   11.2605   11.4286   11.5966   11.7647   11.9328   12.1008   12.2689   12.4370   12.6050   12.7731   12.9412\n",
      "\n",
      "  Columns 79 through 91\n",
      "\n",
      "   13.1092   13.2773   13.4454   13.6134   13.7815   13.9496   14.1176   14.2857   14.4538   14.6218   14.7899   14.9580   15.1261\n",
      "\n",
      "  Columns 92 through 104\n",
      "\n",
      "   15.2941   15.4622   15.6303   15.7983   15.9664   16.1345   16.3025   16.4706   16.6387   16.8067   16.9748   17.1429   17.3109\n",
      "\n",
      "  Columns 105 through 117\n",
      "\n",
      "   17.4790   17.6471   17.8151   17.9832   18.1513   18.3193   18.4874   18.6555   18.8235   18.9916   19.1597   19.3277   19.4958\n",
      "\n",
      "  Columns 118 through 120\n",
      "\n",
      "   19.6639   19.8319   20.0000\n",
      "\n",
      "\n"
     ]
    }
   ],
   "source": [
    "A = linspace(0, 20, 120)"
   ]
  },
  {
   "cell_type": "code",
   "execution_count": 11,
   "metadata": {},
   "outputs": [
    {
     "name": "stdout",
     "output_type": "stream",
     "text": [
      "\n",
      "A =\n",
      "\n",
      "  1.0e+269 *\n",
      "\n",
      "  Columns 1 through 6\n",
      "\n",
      "   0.000000000000000   0.000000000000000   0.000000000000000   0.000000000000000   2.688624806652982                 Inf\n",
      "\n",
      "  Columns 7 through 12\n",
      "\n",
      "                 Inf                 Inf                 Inf                 Inf                 Inf                 Inf\n",
      "\n",
      "  Columns 13 through 18\n",
      "\n",
      "                 Inf                 Inf                 Inf                 Inf                 Inf                 Inf\n",
      "\n",
      "  Columns 19 through 24\n",
      "\n",
      "                 Inf                 Inf                 Inf                 Inf                 Inf                 Inf\n",
      "\n",
      "  Columns 25 through 30\n",
      "\n",
      "                 Inf                 Inf                 Inf                 Inf                 Inf                 Inf\n",
      "\n",
      "  Columns 31 through 36\n",
      "\n",
      "                 Inf                 Inf                 Inf                 Inf                 Inf                 Inf\n",
      "\n",
      "  Columns 37 through 42\n",
      "\n",
      "                 Inf                 Inf                 Inf                 Inf                 Inf                 Inf\n",
      "\n",
      "  Columns 43 through 48\n",
      "\n",
      "                 Inf                 Inf                 Inf                 Inf                 Inf                 Inf\n",
      "\n",
      "  Columns 49 through 54\n",
      "\n",
      "                 Inf                 Inf                 Inf                 Inf                 Inf                 Inf\n",
      "\n",
      "  Columns 55 through 60\n",
      "\n",
      "                 Inf                 Inf                 Inf                 Inf                 Inf                 Inf\n",
      "\n",
      "  Columns 61 through 66\n",
      "\n",
      "                 Inf                 Inf                 Inf                 Inf                 Inf                 Inf\n",
      "\n",
      "  Columns 67 through 72\n",
      "\n",
      "                 Inf                 Inf                 Inf                 Inf                 Inf                 Inf\n",
      "\n",
      "  Columns 73 through 78\n",
      "\n",
      "                 Inf                 Inf                 Inf                 Inf                 Inf                 Inf\n",
      "\n",
      "  Columns 79 through 84\n",
      "\n",
      "                 Inf                 Inf                 Inf                 Inf                 Inf                 Inf\n",
      "\n",
      "  Columns 85 through 90\n",
      "\n",
      "                 Inf                 Inf                 Inf                 Inf                 Inf                 Inf\n",
      "\n",
      "  Columns 91 through 96\n",
      "\n",
      "                 Inf                 Inf                 Inf                 Inf                 Inf                 Inf\n",
      "\n",
      "  Columns 97 through 102\n",
      "\n",
      "                 Inf                 Inf                 Inf                 Inf                 Inf                 Inf\n",
      "\n",
      "  Columns 103 through 108\n",
      "\n",
      "                 Inf                 Inf                 Inf                 Inf                 Inf                 Inf\n",
      "\n",
      "  Columns 109 through 114\n",
      "\n",
      "                 Inf                 Inf                 Inf                 Inf                 Inf                 Inf\n",
      "\n",
      "  Columns 115 through 120\n",
      "\n",
      "                 Inf                 Inf                 Inf                 Inf                 Inf                 Inf\n",
      "\n",
      "  Columns 121 through 126\n",
      "\n",
      "                 Inf                 Inf                 Inf                 Inf                 Inf                 Inf\n",
      "\n",
      "  Columns 127 through 132\n",
      "\n",
      "                 Inf                 Inf                 Inf                 Inf                 Inf                 Inf\n",
      "\n",
      "  Columns 133 through 138\n",
      "\n",
      "                 Inf                 Inf                 Inf                 Inf                 Inf                 Inf\n",
      "\n",
      "  Columns 139 through 144\n",
      "\n",
      "                 Inf                 Inf                 Inf                 Inf                 Inf                 Inf\n",
      "\n",
      "  Columns 145 through 150\n",
      "\n",
      "                 Inf                 Inf                 Inf                 Inf                 Inf                 Inf\n",
      "\n",
      "\n"
     ]
    }
   ],
   "source": [
    "format long\n",
    "A = logspace(1, 10000, 150)"
   ]
  },
  {
   "cell_type": "markdown",
   "metadata": {},
   "source": [
    "4. soru"
   ]
  },
  {
   "cell_type": "code",
   "execution_count": 12,
   "metadata": {},
   "outputs": [
    {
     "name": "stdout",
     "output_type": "stream",
     "text": [
      "\n"
     ]
    }
   ],
   "source": [
    "format short"
   ]
  },
  {
   "cell_type": "code",
   "execution_count": 13,
   "metadata": {},
   "outputs": [
    {
     "name": "stdout",
     "output_type": "stream",
     "text": [
      "\n",
      "ans =\n",
      "\n",
      "     0     0     0     0\n",
      "     0     0     0     0\n",
      "     0     0     0     0\n",
      "\n",
      "\n"
     ]
    }
   ],
   "source": [
    "zeros(3,4)"
   ]
  },
  {
   "cell_type": "code",
   "execution_count": 14,
   "metadata": {},
   "outputs": [
    {
     "name": "stdout",
     "output_type": "stream",
     "text": [
      "\n",
      "ans =\n",
      "\n",
      "     1     1     1\n",
      "     1     1     1\n",
      "     1     1     1\n",
      "\n",
      "\n"
     ]
    }
   ],
   "source": [
    "ones(3)\n",
    "% ones(3,3)"
   ]
  },
  {
   "cell_type": "code",
   "execution_count": 15,
   "metadata": {},
   "outputs": [
    {
     "name": "stdout",
     "output_type": "stream",
     "text": [
      "\n",
      "ans =\n",
      "\n",
      "     1     0     0     0\n",
      "     0     2     0     0\n",
      "     0     0     3     0\n",
      "     0     0     0     4\n",
      "\n",
      "\n"
     ]
    }
   ],
   "source": [
    "diag([1 2 3 4])"
   ]
  },
  {
   "cell_type": "code",
   "execution_count": 16,
   "metadata": {},
   "outputs": [
    {
     "name": "stdout",
     "output_type": "stream",
     "text": [
      "\n",
      "ans =\n",
      "\n",
      "   18.1472   19.1338   12.7850\n",
      "   19.0579   16.3236   15.4688\n",
      "   11.2699   10.9754   19.5751\n",
      "\n",
      "\n"
     ]
    }
   ],
   "source": [
    "10*rand(3) + 10"
   ]
  },
  {
   "cell_type": "markdown",
   "metadata": {},
   "source": [
    "5. Soru"
   ]
  },
  {
   "cell_type": "code",
   "execution_count": 20,
   "metadata": {},
   "outputs": [
    {
     "name": "stdout",
     "output_type": "stream",
     "text": [
      "\n",
      "A =\n",
      "\n",
      "     0     3     6     9    12    15    18    21    24\n",
      "\n",
      "\n",
      "B =\n",
      "\n",
      "     0\n",
      "     3\n",
      "     6\n",
      "     9\n",
      "    12\n",
      "    15\n",
      "    18\n",
      "    21\n",
      "    24\n",
      "\n",
      "\n"
     ]
    }
   ],
   "source": [
    "A = [0:3:24]\n",
    "B = A.' %Transpose Matrix"
   ]
  },
  {
   "cell_type": "markdown",
   "metadata": {},
   "source": [
    "6. Soru"
   ]
  },
  {
   "cell_type": "code",
   "execution_count": 24,
   "metadata": {},
   "outputs": [
    {
     "name": "stdout",
     "output_type": "stream",
     "text": [
      "\n",
      "A =\n",
      "\n",
      "         0    4.0000    8.0000   12.0000   16.0000   20.0000\n",
      "   17.0000   16.0000   15.0000   14.0000   13.0000   12.0000\n",
      "    1.1000    0.8000    0.5000    0.2000   -0.1000   -0.4000\n",
      "\n",
      "\n"
     ]
    }
   ],
   "source": [
    "A = [linspace(0, 20, 6); linspace(17, 12, 6); linspace(1.1, -0.4, 6)]"
   ]
  },
  {
   "cell_type": "markdown",
   "metadata": {},
   "source": [
    "7. Soru"
   ]
  },
  {
   "cell_type": "code",
   "execution_count": 25,
   "metadata": {},
   "outputs": [
    {
     "name": "stdout",
     "output_type": "stream",
     "text": [
      "\n",
      "A =\n",
      "\n",
      "     1     4     7    10    13\n",
      "     2     5     8    11    14\n",
      "     3     6     9    12    15\n",
      "\n",
      "\n"
     ]
    }
   ],
   "source": [
    "A = [linspace(1,13,5); linspace(2,14,5); linspace(3,15,5)]"
   ]
  },
  {
   "cell_type": "code",
   "execution_count": 26,
   "metadata": {},
   "outputs": [
    {
     "name": "stdout",
     "output_type": "stream",
     "text": [
      "\n",
      "B =\n",
      "\n",
      "     2     5     8    11    14\n",
      "\n",
      "\n"
     ]
    }
   ],
   "source": [
    "B = A(2,:)"
   ]
  },
  {
   "cell_type": "code",
   "execution_count": 28,
   "metadata": {},
   "outputs": [
    {
     "name": "stdout",
     "output_type": "stream",
     "text": [
      "\n",
      "C =\n",
      "\n",
      "     1    10\n",
      "     2    11\n",
      "     3    12\n",
      "\n",
      "\n"
     ]
    }
   ],
   "source": [
    "C = A(:,[1,4])"
   ]
  },
  {
   "cell_type": "markdown",
   "metadata": {},
   "source": [
    "8. Soru"
   ]
  },
  {
   "cell_type": "code",
   "execution_count": 34,
   "metadata": {},
   "outputs": [
    {
     "name": "stdout",
     "output_type": "stream",
     "text": [
      "\n",
      "A =\n",
      "\n",
      "     2\n",
      "     7\n",
      "    12\n",
      "    17\n",
      "    22\n",
      "    27\n",
      "    32\n",
      "    37\n",
      "    42\n",
      "    47\n",
      "    52\n",
      "    57\n",
      "\n",
      "\n",
      "B =\n",
      "\n",
      "     2     7    42    47    52    57\n",
      "\n",
      "\n"
     ]
    }
   ],
   "source": [
    "A = [linspace(2, 57, 12)]'\n",
    "B = A([1,2,9,10,11,12],:)'"
   ]
  },
  {
   "cell_type": "markdown",
   "metadata": {},
   "source": [
    "9. Soru"
   ]
  },
  {
   "cell_type": "code",
   "execution_count": 39,
   "metadata": {},
   "outputs": [
    {
     "name": "stdout",
     "output_type": "stream",
     "text": [
      "\n",
      "A =\n",
      "\n",
      "   11.0000    9.0000    7.0000    5.0000    3.0000    1.0000\n",
      "   -2.0000   -1.6000   -1.2000   -0.8000   -0.4000         0\n",
      "         0   -1.0000   -2.0000   -3.0000   -4.0000   -5.0000\n",
      "    8.0000    6.0000    4.0000    2.0000    4.0000    6.0000\n",
      "\n",
      "\n"
     ]
    }
   ],
   "source": [
    "format short\n",
    "A = [linspace(11, 1, 6); linspace(-2,0,6); linspace(0,-5,6); 8 6 4 2 4 6]"
   ]
  },
  {
   "cell_type": "code",
   "execution_count": 40,
   "metadata": {},
   "outputs": [
    {
     "name": "stdout",
     "output_type": "stream",
     "text": [
      "\n",
      "B =\n",
      "\n",
      "     7     5\n",
      "     4     2\n",
      "\n",
      "\n"
     ]
    }
   ],
   "source": [
    "B = A ([1,4],[3,4])"
   ]
  },
  {
   "cell_type": "code",
   "execution_count": 41,
   "metadata": {},
   "outputs": [
    {
     "name": "stdout",
     "output_type": "stream",
     "text": [
      "\n",
      "C =\n",
      "\n",
      "   11.0000    7.0000    5.0000    3.0000\n",
      "   -2.0000   -1.2000   -0.8000   -0.4000\n",
      "         0   -2.0000   -3.0000   -4.0000\n",
      "    8.0000    4.0000    2.0000    4.0000\n",
      "\n",
      "\n"
     ]
    }
   ],
   "source": [
    "C = A(:,[1,3:5])"
   ]
  },
  {
   "cell_type": "code",
   "execution_count": 42,
   "metadata": {},
   "outputs": [
    {
     "name": "stdout",
     "output_type": "stream",
     "text": [
      "\n",
      "D =\n",
      "\n",
      "   11.0000    9.0000    7.0000    5.0000    3.0000    1.0000\n",
      "   -2.0000   -1.6000   -1.2000   -0.8000   -0.4000         0\n",
      "\n",
      "\n"
     ]
    }
   ],
   "source": [
    "D = A([1,2],:)"
   ]
  },
  {
   "cell_type": "markdown",
   "metadata": {},
   "source": [
    "10. Soru"
   ]
  },
  {
   "cell_type": "code",
   "execution_count": 50,
   "metadata": {},
   "outputs": [
    {
     "name": "stdout",
     "output_type": "stream",
     "text": [
      "\n",
      "A =\n",
      "\n",
      "     1     0     0     0     0\n",
      "     0     1     0     0     0\n",
      "     0     0     1     0     0\n",
      "     0     0     0     1     0\n",
      "     0     0     0     0     1\n",
      "\n",
      "\n",
      "A =\n",
      "\n",
      "     1     0     0     0     0\n",
      "     0     1     0     0     0\n",
      "     0     0     1     0     0\n",
      "     0     0     1     1     0\n",
      "     0     0     1     0     1\n",
      "\n",
      "\n",
      "A =\n",
      "\n",
      "     1     0     0     0     0\n",
      "     0     1     0     0     0\n",
      "     0     0     1     0     0\n",
      "     0     0     1     1     0\n",
      "     0     0     1     0     1\n",
      "\n",
      "\n"
     ]
    }
   ],
   "source": [
    "A = eye(5) \n",
    "A([4,5],3) = 1\n",
    "A"
   ]
  },
  {
   "cell_type": "code",
   "execution_count": 51,
   "metadata": {},
   "outputs": [
    {
     "name": "stdout",
     "output_type": "stream",
     "text": [
      "\n",
      "A =\n",
      "\n",
      "     1     0     0     0     0\n",
      "     0     1     0     0     0\n",
      "     3     3     1     0     0\n",
      "     3     3     1     1     0\n",
      "     3     3     1     0     1\n",
      "\n",
      "\n"
     ]
    }
   ],
   "source": [
    "A([3,4,5],[1,2]) = 3"
   ]
  },
  {
   "cell_type": "code",
   "execution_count": 52,
   "metadata": {},
   "outputs": [
    {
     "name": "stdout",
     "output_type": "stream",
     "text": [
      "\n",
      "A =\n",
      "\n",
      "     1     0     2     2     2\n",
      "     0     1     2     2     2\n",
      "     3     3     1     0     0\n",
      "     3     3     1     1     0\n",
      "     3     3     1     0     1\n",
      "\n",
      "\n"
     ]
    }
   ],
   "source": [
    "A([1,2],[3,4,5]) = 2"
   ]
  },
  {
   "cell_type": "code",
   "execution_count": null,
   "metadata": {},
   "outputs": [],
   "source": []
  }
 ],
 "metadata": {
  "kernelspec": {
   "display_name": "Matlab (Connection)",
   "language": "matlab",
   "name": "matlab_connect"
  },
  "language_info": {
   "codemirror_mode": "octave",
   "file_extension": ".m",
   "help_links": [
    {
     "text": "MetaKernel Magics",
     "url": "https://metakernel.readthedocs.io/en/latest/source/README.html"
    }
   ],
   "mimetype": "text/x-octave",
   "name": "matlab",
   "version": "0.17.1"
  }
 },
 "nbformat": 4,
 "nbformat_minor": 2
}
