{
 "cells": [
  {
   "cell_type": "markdown",
   "metadata": {},
   "source": [
    "**Çalışma Sorusu 1**\n",
    "\n",
    "1. Aşağıda verilen ifadelerin türevlerini \"diff\" komutunu ve integrallerini \"int\" komutunu kullanarak hesaplayınız."
   ]
  },
  {
   "cell_type": "markdown",
   "metadata": {},
   "source": [
    "a- $X(s) = s^3 + 2*s^2 + 4*s + 6$"
   ]
  },
  {
   "cell_type": "code",
   "execution_count": 4,
   "metadata": {},
   "outputs": [
    {
     "name": "stdout",
     "output_type": "stream",
     "text": [
      "\n"
     ]
    }
   ],
   "source": [
    "syms s; % s değişkenini sembolik olarak tanımla"
   ]
  },
  {
   "cell_type": "code",
   "execution_count": 2,
   "metadata": {},
   "outputs": [
    {
     "name": "stdout",
     "output_type": "stream",
     "text": [
      " \n",
      "X_turev =\n",
      " \n",
      "3*s^2 + 4*s + 4\n",
      " \n",
      " \n",
      "X_integral =\n",
      " \n",
      "s^4/4 + (2*s^3)/3 + 2*s^2 + 6*s\n",
      " \n",
      "\n"
     ]
    }
   ],
   "source": [
    "% Verilen ifade\n",
    "X = s^3 + 2*s^2 + 4*s + 6;\n",
    "\n",
    "% Türev\n",
    "X_turev = diff(X, s);\n",
    "\n",
    "% Integral\n",
    "X_integral = int(X, s);\n",
    "\n",
    "X_turev\n",
    "X_integral"
   ]
  },
  {
   "cell_type": "markdown",
   "metadata": {},
   "source": [
    "b- $f(t) = 5 + 15*sin(2*\\pi*50*t)$"
   ]
  },
  {
   "cell_type": "code",
   "execution_count": 5,
   "metadata": {},
   "outputs": [
    {
     "name": "stdout",
     "output_type": "stream",
     "text": [
      "\n"
     ]
    }
   ],
   "source": [
    "syms t; % t değişkenini sembolik olarak tanımla"
   ]
  },
  {
   "cell_type": "code",
   "execution_count": 6,
   "metadata": {},
   "outputs": [
    {
     "name": "stdout",
     "output_type": "stream",
     "text": [
      " \n",
      "f_turev =\n",
      " \n",
      "1500*pi*cos(100*pi*t)\n",
      " \n",
      " \n",
      "f_integral =\n",
      " \n",
      "5*t - (3*cos(100*pi*t))/(20*pi)\n",
      " \n",
      "\n"
     ]
    }
   ],
   "source": [
    "\n",
    "% Verilen ifade\n",
    "f = 5 + 15*sin(2*pi*50*t);\n",
    "\n",
    "% Türev\n",
    "f_turev = diff(f, t);\n",
    "\n",
    "% Integral\n",
    "f_integral = int(f, t);\n",
    "\n",
    "f_turev\n",
    "f_integral"
   ]
  },
  {
   "cell_type": "markdown",
   "metadata": {},
   "source": [
    "c- $x(t) = 2*(exp(-1000*t)-exp(-500*t))$"
   ]
  },
  {
   "cell_type": "code",
   "execution_count": 7,
   "metadata": {},
   "outputs": [
    {
     "name": "stdout",
     "output_type": "stream",
     "text": [
      "\n"
     ]
    }
   ],
   "source": [
    "syms t; % t değişkenini sembolik olarak tanımla"
   ]
  },
  {
   "cell_type": "code",
   "execution_count": 8,
   "metadata": {},
   "outputs": [
    {
     "name": "stdout",
     "output_type": "stream",
     "text": [
      " \n",
      "x_turev =\n",
      " \n",
      "1000*exp(-500*t) - 2000*exp(-1000*t)\n",
      " \n",
      " \n",
      "x_integral =\n",
      " \n",
      "(exp(-1000*t)*(2*exp(500*t) - 1))/500\n",
      " \n",
      "\n"
     ]
    }
   ],
   "source": [
    "% Verilen ifade\n",
    "x = 2*(exp(-1000*t) - exp(-500*t));\n",
    "\n",
    "% Türev\n",
    "x_turev = diff(x, t);\n",
    "\n",
    "% Integral\n",
    "x_integral = int(x, t);\n",
    "\n",
    "x_turev\n",
    "x_integral"
   ]
  },
  {
   "cell_type": "markdown",
   "metadata": {},
   "source": [
    "d- $w(t) = 5*exp(-2*t)*(cos(2*t)+sin(2*t))$"
   ]
  },
  {
   "cell_type": "code",
   "execution_count": 9,
   "metadata": {},
   "outputs": [
    {
     "name": "stdout",
     "output_type": "stream",
     "text": [
      "\n"
     ]
    }
   ],
   "source": [
    "syms t; % t değişkenini sembolik olarak tanımla"
   ]
  },
  {
   "cell_type": "code",
   "execution_count": 10,
   "metadata": {},
   "outputs": [
    {
     "name": "stdout",
     "output_type": "stream",
     "text": [
      " \n",
      "w_turev =\n",
      " \n",
      "5*exp(-2*t)*(2*cos(2*t) - 2*sin(2*t)) - 10*exp(-2*t)*(cos(2*t) + sin(2*t))\n",
      " \n",
      " \n",
      "w_integral =\n",
      " \n",
      "-(5*exp(-2*t)*(2*cos(t)^2 - 1))/2\n",
      " \n",
      "\n"
     ]
    }
   ],
   "source": [
    "% Verilen ifade\n",
    "w = 5*exp(-2*t)*(cos(2*t) + sin(2*t));\n",
    "\n",
    "% Türev\n",
    "w_turev = diff(w, t);\n",
    "\n",
    "% Integral\n",
    "w_integral = int(w, t);\n",
    "\n",
    "w_turev\n",
    "w_integral"
   ]
  },
  {
   "cell_type": "markdown",
   "metadata": {},
   "source": [
    "2. Aşağıda verilen fonksiyonun ortalama değerini \"int\" komutunu kullanarak hesaplayınız.\n",
    "\n",
    "    $ f(t) = 10*exp(2*t)*sin(4*t-15°)$ ve $0<=t<=5 $"
   ]
  },
  {
   "cell_type": "code",
   "execution_count": 1,
   "metadata": {},
   "outputs": [
    {
     "name": "stdout",
     "output_type": "stream",
     "text": [
      "\n"
     ]
    }
   ],
   "source": [
    "syms t; % t değişkenini sembolik olarak tanımla"
   ]
  },
  {
   "cell_type": "code",
   "execution_count": 2,
   "metadata": {},
   "outputs": [
    {
     "name": "stdout",
     "output_type": "stream",
     "text": [
      " \n",
      "ortalama_deger =\n",
      " \n",
      "2^(1/2)/20 + (3*6^(1/2))/20 - (2^(1/2)*cos(20)*exp(10))/20 - (3*6^(1/2)*cos(20)*exp(10))/20 + (3*2^(1/2)*exp(10)*sin(20))/20 - (6^(1/2)*exp(10)*sin(20))/20\n",
      " \n",
      "\n"
     ]
    }
   ],
   "source": [
    "% Verilen fonksiyon\n",
    "f = 10*exp(2*t)*sin(4*t - deg2rad(15)); % Dereceyi radyana çevirme\n",
    "\n",
    "% Fonksiyonun ortalama değeri için aralık\n",
    "a = 0; % Alt sınır\n",
    "b = 5; % Üst sınır\n",
    "\n",
    "% Fonksiyonun integralini hesapla\n",
    "integral_value = int(f, t, a, b);\n",
    "\n",
    "% İntegral değerini aralık uzunluğuna bölerek ortalama değeri hesapla\n",
    "ortalama_deger = integral_value / (b - a);\n",
    "\n",
    "ortalama_deger"
   ]
  },
  {
   "cell_type": "markdown",
   "metadata": {},
   "source": [
    "4. Aşağıda verilen eşitlik R = 5 Ω luk bir direncin üzerinden geçen akımı tanımladığına göre direncin üzerinde harcanan gücün 0-1 saniye aralığındaki değişimini \"int\" komutu kullanarak çizen Matlab programını yazınız.\n",
    "\n",
    "$i(t) = 2*exp(-10*t)*sin(2*pi*50*t)$"
   ]
  },
  {
   "cell_type": "code",
   "execution_count": 3,
   "metadata": {},
   "outputs": [
    {
     "name": "stdout",
     "output_type": "stream",
     "text": [
      "\n"
     ]
    },
    {
     "data": {
      "image/png": "[encoded data removed]",
      "text/plain": [
       "<IPython.core.display.Image object>"
      ]
     },
     "metadata": {},
     "output_type": "display_data"
    }
   ],
   "source": [
    "syms t; % t değişkenini sembolik olarak tanımla\n",
    "\n",
    "% Verilen akım fonksiyonu\n",
    "i = 2*exp(-10*t)*sin(2*pi*50*t);\n",
    "\n",
    "% Direnç değeri\n",
    "R = 5; % Ohm\n",
    "\n",
    "% Güç fonksiyonu (P = R*i^2)\n",
    "P = R * i^2;\n",
    "\n",
    "% Gücün 0-1 saniye aralığındaki değişimi hesapla\n",
    "t_start = 0; % Başlangıç zamanı\n",
    "t_end = 1;   % Bitiş zamanı\n",
    "\n",
    "power_change = int(P, t, t_start, t_end);\n",
    "\n",
    "% Değişimin grafiğini çiz\n",
    "fplot(power_change, [t_start, t_end]);\n",
    "xlabel('Zaman (s)');\n",
    "ylabel('Güç Değişimi');\n",
    "title('Direncin Üzerinde Harcanan Gücün Değişimi');\n"
   ]
  },
  {
   "cell_type": "markdown",
   "metadata": {},
   "source": [
    "6. Aşağıda verilen denklem takımlarını \"solve\" komutu kullanarak çözünüz."
   ]
  },
  {
   "cell_type": "markdown",
   "metadata": {},
   "source": [
    "a-\n",
    "\n",
    "$$\n",
    "2I_1 + 4I_2 = 14\n",
    "$$\n",
    "$$\n",
    "I_1 - 3I_2 = -8\n",
    "$$"
   ]
  },
  {
   "cell_type": "code",
   "execution_count": 4,
   "metadata": {},
   "outputs": [
    {
     "name": "stdout",
     "output_type": "stream",
     "text": [
      " \n",
      "I1_solution =\n",
      " \n",
      "1\n",
      " \n",
      " \n",
      "I2_solution =\n",
      " \n",
      "3\n",
      " \n",
      "\n"
     ]
    }
   ],
   "source": [
    "syms I1 I2; % I1 ve I2 sembolik değişkenleri tanımla\n",
    "\n",
    "% Verilen denklemler\n",
    "eq1 = 2*I1 + 4*I2 == 14;\n",
    "eq2 = I1 - 3*I2 == -8;\n",
    "\n",
    "% Denklem takımını çöz\n",
    "solution = solve([eq1, eq2], [I1, I2]);\n",
    "\n",
    "% Çözümü ekrana yazdır\n",
    "I1_solution = solution.I1\n",
    "I2_solution = solution.I2\n"
   ]
  },
  {
   "cell_type": "markdown",
   "metadata": {},
   "source": [
    "b-\n",
    "$$\n",
    "aV_1 + cV_2 = 0\n",
    "$$\n",
    "$$\n",
    "dV_1 + bV_2 = 5\n",
    "$$"
   ]
  },
  {
   "cell_type": "code",
   "execution_count": 5,
   "metadata": {},
   "outputs": [
    {
     "name": "stdout",
     "output_type": "stream",
     "text": [
      " \n",
      "V1_solution =\n",
      " \n",
      "3/2\n",
      " \n",
      " \n",
      "V2_solution =\n",
      " \n",
      "-1/2\n",
      " \n",
      "\n"
     ]
    }
   ],
   "source": [
    "syms V1 V2; % V1 ve V2 sembolik değişkenleri tanımla\n",
    "\n",
    "% Verilen denklemler\n",
    "a = 1; % Örnek olarak a = 1\n",
    "b = 2; % Örnek olarak b = 2\n",
    "c = 3; % Örnek olarak c = 3\n",
    "d = 4; % Örnek olarak d = 4\n",
    "\n",
    "eq1 = a*V1 + c*V2 == 0;\n",
    "eq2 = d*V1 + b*V2 == 5;\n",
    "\n",
    "% Denklem takımını çöz\n",
    "solution = solve([eq1, eq2], [V1, V2]);\n",
    "\n",
    "% Çözümü ekrana yazdır\n",
    "V1_solution = solution.V1\n",
    "V2_solution = solution.V2\n"
   ]
  },
  {
   "cell_type": "markdown",
   "metadata": {},
   "source": [
    "c-\n",
    "\n",
    "$$\n",
    "I_1 + I_2 - I_3 = 4\n",
    "$$\n",
    "$$\n",
    "2*I_1 + I_2 + I_3 = 3\n",
    "$$\n",
    "$$\n",
    "I_1 + I_2 + 3*I_3 = 0\n",
    "$$"
   ]
  },
  {
   "cell_type": "code",
   "execution_count": 6,
   "metadata": {},
   "outputs": [
    {
     "name": "stdout",
     "output_type": "stream",
     "text": [
      " \n",
      "I1_solution =\n",
      " \n",
      "1\n",
      " \n",
      " \n",
      "I2_solution =\n",
      " \n",
      "2\n",
      " \n",
      " \n",
      "I3_solution =\n",
      " \n",
      "-1\n",
      " \n",
      "\n"
     ]
    }
   ],
   "source": [
    "syms I1 I2 I3; % I1, I2 ve I3 sembolik değişkenleri tanımla\n",
    "\n",
    "% Verilen denklemler\n",
    "eq1 = I1 + I2 - I3 == 4;\n",
    "eq2 = 2*I1 + I2 + I3 == 3;\n",
    "eq3 = I1 + I2 + 3*I3 == 0;\n",
    "\n",
    "% Denklem takımını çöz\n",
    "solution = solve([eq1, eq2, eq3], [I1, I2, I3]);\n",
    "\n",
    "% Çözümü ekrana yazdır\n",
    "I1_solution = solution.I1\n",
    "I2_solution = solution.I2\n",
    "I3_solution = solution.I3\n"
   ]
  },
  {
   "cell_type": "markdown",
   "metadata": {},
   "source": [
    "d-\n",
    "\n",
    "$$\n",
    "x_1 - 2*x_2 - x_3 = 1\n",
    "$$\n",
    "$$\n",
    "-x_1 - x_2 - x_3 = 2\n",
    "$$\n",
    "$$\n",
    "x_1 + 2*x_2  0*x_3 = -3\n",
    "$$"
   ]
  },
  {
   "cell_type": "code",
   "execution_count": 7,
   "metadata": {},
   "outputs": [
    {
     "name": "stdout",
     "output_type": "stream",
     "text": [
      " \n",
      "x1_solution =\n",
      " \n",
      "-1\n",
      " \n",
      " \n",
      "x2_solution =\n",
      " \n",
      "-1\n",
      " \n",
      " \n",
      "x3_solution =\n",
      " \n",
      "0\n",
      " \n",
      "\n"
     ]
    }
   ],
   "source": [
    "syms x1 x2 x3; % x1, x2 ve x3 sembolik değişkenleri tanımla\n",
    "\n",
    "% Verilen denklemler\n",
    "eq1 = x1 - 2*x2 - x3 == 1;\n",
    "eq2 = -x1 - x2 - x3 == 2;\n",
    "eq3 = x1 + 2*x2 == -3;\n",
    "\n",
    "% Denklem takımını çöz\n",
    "solution = solve([eq1, eq2, eq3], [x1, x2, x3]);\n",
    "\n",
    "% Çözümü ekrana yazdır\n",
    "x1_solution = solution.x1\n",
    "x2_solution = solution.x2\n",
    "x3_solution = solution.x3\n"
   ]
  },
  {
   "cell_type": "markdown",
   "metadata": {},
   "source": [
    "7. Aşağıda verilen diferansiyel denklemlerde tanımlanan başlangıç değerlerine göre t(t)'nin 0-10 saniye aralığındaki cevabını \"dsolve\" komutunu kullanarak çizen Matlab programlarını yazınız"
   ]
  },
  {
   "cell_type": "markdown",
   "metadata": {},
   "source": [
    "a-\n",
    "\n",
    "\n",
    "$y'(t) + 0.8*y(t) = 1$  ve $y(0) = 0$\n",
    "\n",
    "\n",
    "b-\n",
    "\n",
    "\n",
    "$y''(t) + y'(t) + 2*y(t) = 2$ ve $y(0) = 7$ ve $y'(0) = -1$\n",
    "\n",
    "\n",
    "c-\n",
    "\n",
    "\n",
    "$y''(t) + 2*y'(t) + 5*y(t) = 2*(1+exp(-2*t))$ ve $y(0) = y'(0) = 0$"
   ]
  },
  {
   "cell_type": "code",
   "execution_count": 8,
   "metadata": {},
   "outputs": [
    {
     "name": "stdout",
     "output_type": "stream",
     "text": [
      " \n",
      "sol_a =\n",
      " \n",
      "5/4 - (5*exp(-(4*t)/5))/4\n",
      " \n",
      "\n"
     ]
    }
   ],
   "source": [
    "syms y(t);\n",
    "eqn_a = diff(y,t) + 0.8*y == 1;\n",
    "y0_a = y(0) == 0;\n",
    "sol_a = dsolve(eqn_a, y0_a);\n",
    "\n",
    "sol_a"
   ]
  },
  {
   "cell_type": "code",
   "execution_count": 9,
   "metadata": {},
   "outputs": [
    {
     "name": "stdout",
     "output_type": "stream",
     "text": [
      " \n",
      "sol_b =\n",
      " \n",
      "6*exp(-t/2)*cos((7^(1/2)*t)/2) + (4*7^(1/2)*exp(-t/2)*sin((7^(1/2)*t)/2))/7 + 1\n",
      " \n",
      "\n"
     ]
    }
   ],
   "source": [
    "syms y(t);\n",
    "eqn_b = diff(y,t,2) + diff(y,t) + 2*y == 2;\n",
    "y0_b = [y(0) == 7, subs(diff(y,t),t,0) == -1];\n",
    "sol_b = dsolve(eqn_b, y0_b);\n",
    "\n",
    "sol_b"
   ]
  },
  {
   "cell_type": "code",
   "execution_count": 10,
   "metadata": {},
   "outputs": [
    {
     "name": "stdout",
     "output_type": "stream",
     "text": [
      " \n",
      "sol_c =\n",
      " \n",
      "(4*exp(-t)*(cos(2*t)^2*cosh(t) - cos(2*t) + sin(2*t)^2*cosh(t)))/5\n",
      " \n",
      "\n"
     ]
    }
   ],
   "source": [
    "syms y(t);\n",
    "eqn_c = diff(y,t,2) + 2*diff(y,t) + 5*y == 2*(1+exp(-2*t));\n",
    "y0_c = [y(0) == 0, subs(diff(y,t),t,0) == 0];\n",
    "sol_c = dsolve(eqn_c, y0_c);\n",
    "\n",
    "sol_c"
   ]
  },
  {
   "cell_type": "markdown",
   "metadata": {},
   "source": [
    "8. Önceki soruda zamana bağlı elde edilen sonuçlar için başlangıç (initial) ve bitiş (final) değerlerini \"limit\" komutunu kullanarak belirleyiniz ve sonuçlarını ait grafikler üzerinde '*' karakterini kullanarak gösteriniz. "
   ]
  },
  {
   "cell_type": "markdown",
   "metadata": {},
   "source": [
    "a) İlk denklem için:"
   ]
  },
  {
   "cell_type": "code",
   "execution_count": 11,
   "metadata": {},
   "outputs": [
    {
     "name": "stdout",
     "output_type": "stream",
     "text": [
      "\n"
     ]
    }
   ],
   "source": [
    "% Çözümü al\n",
    "sol_a = dsolve(eqn_a, y0_a);\n",
    "\n",
    "% Başlangıç ve bitiş değerlerini belirle\n",
    "initial_value_a = limit(sol_a, t, 0, 'left');\n",
    "final_value_a = limit(sol_a, t, Inf);\n"
   ]
  },
  {
   "cell_type": "markdown",
   "metadata": {},
   "source": [
    "b) İkinci denklem için:"
   ]
  },
  {
   "cell_type": "code",
   "execution_count": 12,
   "metadata": {},
   "outputs": [
    {
     "name": "stdout",
     "output_type": "stream",
     "text": [
      "\n"
     ]
    }
   ],
   "source": [
    "% Çözümü al\n",
    "sol_b = dsolve(eqn_b, y0_b);\n",
    "\n",
    "% Başlangıç ve bitiş değerlerini belirle\n",
    "initial_value_b = limit(sol_b, t, 0, 'left');\n",
    "final_value_b = limit(sol_b, t, Inf);\n"
   ]
  },
  {
   "cell_type": "markdown",
   "metadata": {},
   "source": [
    "c) Üçüncü denklem için:"
   ]
  },
  {
   "cell_type": "code",
   "execution_count": 13,
   "metadata": {},
   "outputs": [
    {
     "name": "stdout",
     "output_type": "stream",
     "text": [
      "\n"
     ]
    }
   ],
   "source": [
    "% Çözümü al\n",
    "sol_c = dsolve(eqn_c, y0_c);\n",
    "\n",
    "% Başlangıç ve bitiş değerlerini belirle\n",
    "initial_value_c = limit(sol_c, t, 0, 'left');\n",
    "final_value_c = limit(sol_c, t, Inf);\n"
   ]
  },
  {
   "cell_type": "markdown",
   "metadata": {},
   "source": [
    "Şimdi, her bir durum için başlangıç ve bitiş değerlerini ve grafiklerini '*' karakteri ile gösterelim."
   ]
  },
  {
   "cell_type": "code",
   "execution_count": 18,
   "metadata": {},
   "outputs": [
    {
     "name": "stderr",
     "output_type": "stream",
     "text": [
      "\u001b[1;31mData must be numeric, datetime, duration, categorical, or an array convertible to double.\n",
      "\n",
      "\u001b[0m"
     ]
    },
    {
     "data": {
      "image/png": "[encoded data removed]",
      "text/plain": [
       "<IPython.core.display.Image object>"
      ]
     },
     "metadata": {},
     "output_type": "display_data"
    }
   ],
   "source": [
    "% a) İlk denklemin grafiği ve başlangıç-bitir değerleri\n",
    "fplot(sol_a, [0, 10], '*');\n",
    "hold on;\n",
    "plot(0, initial_value_a, '*', 'MarkerSize', 10);\n",
    "plot(10, final_value_a, '*', 'MarkerSize', 10);\n",
    "\n",
    "% b) İkinci denklemin grafiği ve başlangıç-bitir değerleri\n",
    "fplot(sol_b, [0, 10], '*');\n",
    "hold on;\n",
    "plot(0, initial_value_b, '*', 'MarkerSize', 10);\n",
    "plot(10, final_value_b, '*', 'MarkerSize', 10);\n",
    "\n",
    "% c) Üçüncü denklemin grafiği ve başlangıç-bitir değerleri\n",
    "fplot(sol_c, [0, 10], '*');\n",
    "hold on;\n",
    "plot(0, initial_value_c, '*', 'MarkerSize', 10);\n",
    "plot(10, final_value_c, '*', 'MarkerSize', 10);\n",
    "\n",
    "xlabel('Zaman (t)');\n",
    "ylabel('y(t)');\n",
    "legend('Çözüm', 'Başlangıç Değeri', 'Bitiş Değeri');\n",
    "title('Başlangıç ve Bitiş Değerleri ile Çözümler');\n"
   ]
  },
  {
   "cell_type": "code",
   "execution_count": null,
   "metadata": {},
   "outputs": [],
   "source": []
  }
 ],
 "metadata": {
  "kernelspec": {
   "display_name": "Matlab (Connection)",
   "language": "matlab",
   "name": "matlab_connect"
  },
  "language_info": {
   "codemirror_mode": "octave",
   "file_extension": ".m",
   "help_links": [
    {
     "text": "MetaKernel Magics",
     "url": "https://metakernel.readthedocs.io/en/latest/source/README.html"
    }
   ],
   "mimetype": "text/x-octave",
   "name": "matlab",
   "version": "0.17.1"
  }
 },
 "nbformat": 4,
 "nbformat_minor": 2
}
