{
 "cells": [
  {
   "cell_type": "markdown",
   "metadata": {},
   "source": [
    "**Week 1 (1. Hafta)**"
   ]
  },
  {
   "cell_type": "markdown",
   "metadata": {},
   "source": [
    "Burada Matlab Komut satırlarına veya M file'a yazılan kodları ve çıktıları kaydetmek için Jupyter Notebook dosyasını seçtim. Bunun PDF'e📁 çevrilmiş halini de görebilirsiniz😊\n",
    "\n",
    "Bu ders notunu Matlab'ı sevdiğimden dolayı çıkartıyorum. Umarım hoşunuza gider. Vize ve Final sınavlarınızda🗒🖊 başarılar dilerim😁😄"
   ]
  },
  {
   "cell_type": "markdown",
   "metadata": {},
   "source": [
    "short formata göre 4 digit var"
   ]
  },
  {
   "cell_type": "code",
   "execution_count": 12,
   "metadata": {},
   "outputs": [
    {
     "name": "stdout",
     "output_type": "stream",
     "text": [
      "\n",
      "a =\n",
      "\n",
      "     4\n",
      "\n",
      "\n",
      "ans =\n",
      "\n",
      "    3.1416\n",
      "\n",
      "\n"
     ]
    }
   ],
   "source": [
    "a = 4\n",
    "\n",
    "pi "
   ]
  },
  {
   "cell_type": "markdown",
   "metadata": {},
   "source": [
    "noktanın öncesi ve sonrası dahil 7 digit vardır"
   ]
  },
  {
   "cell_type": "code",
   "execution_count": 7,
   "metadata": {},
   "outputs": [
    {
     "name": "stdout",
     "output_type": "stream",
     "text": [
      "\n",
      "ans =\n",
      "\n",
      "    3.1416\n",
      "\n",
      "\n"
     ]
    }
   ],
   "source": [
    "digits(7)\n",
    "pi"
   ]
  },
  {
   "cell_type": "markdown",
   "metadata": {},
   "source": [
    "digit komutundan sonra vpa yardımcısı ile kullanılarak elde edersin"
   ]
  },
  {
   "cell_type": "code",
   "execution_count": 8,
   "metadata": {},
   "outputs": [
    {
     "name": "stdout",
     "output_type": "stream",
     "text": [
      " \n",
      "ans =\n",
      " \n",
      "3.141593\n",
      " \n",
      "\n"
     ]
    }
   ],
   "source": [
    "vpa(pi) "
   ]
  },
  {
   "cell_type": "markdown",
   "metadata": {},
   "source": [
    "bu da 2. yol \"sym\" ile"
   ]
  },
  {
   "cell_type": "code",
   "execution_count": 10,
   "metadata": {},
   "outputs": [
    {
     "name": "stdout",
     "output_type": "stream",
     "text": [
      " \n",
      "ans =\n",
      " \n",
      "3.141593\n",
      " \n",
      "\n"
     ]
    }
   ],
   "source": [
    "sym(pi,'d')"
   ]
  },
  {
   "cell_type": "markdown",
   "metadata": {},
   "source": [
    "digit komutunu kullanmadan vpa ile pi değer girildikten sonra istenilen digite gönderme"
   ]
  },
  {
   "cell_type": "code",
   "execution_count": 11,
   "metadata": {},
   "outputs": [
    {
     "name": "stdout",
     "output_type": "stream",
     "text": [
      " \n",
      "ans =\n",
      " \n",
      "3.14\n",
      " \n",
      "\n"
     ]
    }
   ],
   "source": [
    "vpa(pi,3) "
   ]
  },
  {
   "cell_type": "markdown",
   "metadata": {},
   "source": [
    "z = 2 + 3j\n",
    "\n",
    "matlab''da \"j\" karakter de \"i\" karakter de kullanılır ancak matlab karşılığı \"i\" ile verir "
   ]
  },
  {
   "cell_type": "code",
   "execution_count": 13,
   "metadata": {},
   "outputs": [
    {
     "name": "stdout",
     "output_type": "stream",
     "text": [
      "\n",
      "z =\n",
      "\n",
      "   2.0000 + 3.0000i\n",
      "\n",
      "\n"
     ]
    }
   ],
   "source": [
    "z = 2 + 3j"
   ]
  },
  {
   "cell_type": "markdown",
   "metadata": {},
   "source": [
    "**Week 2 (2. Hafta)**"
   ]
  },
  {
   "cell_type": "code",
   "execution_count": 16,
   "metadata": {},
   "outputs": [
    {
     "name": "stdout",
     "output_type": "stream",
     "text": [
      "\n",
      "theta =\n",
      "\n",
      "    0.9828\n",
      "\n",
      "\n",
      "r =\n",
      "\n",
      "    3.6056\n",
      "\n",
      "\n"
     ]
    }
   ],
   "source": [
    "[theta  r] = cart2pol(real(z),imag(z))"
   ]
  },
  {
   "cell_type": "code",
   "execution_count": 14,
   "metadata": {},
   "outputs": [
    {
     "name": "stdout",
     "output_type": "stream",
     "text": [
      "\n",
      "a =\n",
      "\n",
      "    0.1486\n",
      "\n",
      "\n",
      "b =\n",
      "\n",
      "   33.7612\n",
      "\n",
      "\n"
     ]
    }
   ],
   "source": [
    "[a b] = cart2pol(53.1401*pi/5,5)"
   ]
  },
  {
   "cell_type": "code",
   "execution_count": 17,
   "metadata": {},
   "outputs": [
    {
     "name": "stdout",
     "output_type": "stream",
     "text": [
      "\n",
      "a =\n",
      "\n",
      "    1.3047\n",
      "\n",
      "\n",
      "b =\n",
      "\n",
      "    3.7371\n",
      "\n",
      "\n"
     ]
    }
   ],
   "source": [
    "[a b] = cart2pol(theta,r)"
   ]
  },
  {
   "cell_type": "code",
   "execution_count": 15,
   "metadata": {},
   "outputs": [
    {
     "name": "stdout",
     "output_type": "stream",
     "text": [
      "\n",
      "x =\n",
      "\n",
      "     1     2     3     4     5\n",
      "\n",
      "\n",
      "f =\n",
      "\n",
      "     6     8    10    12    14\n",
      "\n",
      "\n",
      "f2 =\n",
      "\n",
      "     6    12    22    36    54\n",
      "\n",
      "\n"
     ]
    }
   ],
   "source": [
    "x = [1 2 3 4 5]\n",
    "\n",
    "f = 2*x + 4 \n",
    "\n",
    "f2 = 2*x.^2 + 4"
   ]
  },
  {
   "cell_type": "markdown",
   "metadata": {},
   "source": [
    "f(t) = A sin(wt)  t = 0:10  \n",
    "\n",
    "\n",
    "% increment value(artış değer) => 1  \n",
    "\n",
    "\n",
    "t = 0:0.5:10  \n",
    "\n",
    "\n",
    "% increment value(artış değer) => 0.5"
   ]
  },
  {
   "cell_type": "markdown",
   "metadata": {},
   "source": [
    "**NOT** : Artış değer rastgele tanımlanmamalıdır. Mesela t = 0 ... 9.7 ile bitebilir. \n",
    "\n",
    "Bu sorundan kurtulmak için:\n",
    "t = initial value : <sup>final value - initial value</sup>&frasl;<sub>number of gaps</sub> : final value"
   ]
  },
  {
   "cell_type": "markdown",
   "metadata": {},
   "source": [
    "$$t = linspace(inital value, final value)\n",
    "% Toplam 100 elemandan diziyi oluşturur"
   ]
  },
  {
   "cell_type": "markdown",
   "metadata": {},
   "source": [
    "t = linspace(0,10,500)\n",
    "\n",
    "\n",
    "% sonucu göstermez matlab'da ancak Jupyter Notebook'ta gösterir😄😂 yani 500 tane sayıdan oluşan dizi(ondan emin değilim ama ne demek istediğimi anladınız😅) olur. Neyse grafiksel çizidrmek istersek default modda mavi çizgi ile çizilir."
   ]
  },
  {
   "cell_type": "markdown",
   "metadata": {},
   "source": [
    "fliplr\n",
    "\n",
    "flipud\n",
    "\n",
    "-> satırdaki sayıları ters çevirir"
   ]
  },
  {
   "cell_type": "code",
   "execution_count": 18,
   "metadata": {},
   "outputs": [
    {
     "name": "stdout",
     "output_type": "stream",
     "text": [
      "\n",
      "A =\n",
      "\n",
      "     1     2     3\n",
      "     4     5     6\n",
      "\n",
      "\n"
     ]
    }
   ],
   "source": [
    "A = [1 2 3; 4 5 6]"
   ]
  },
  {
   "cell_type": "code",
   "execution_count": 19,
   "metadata": {},
   "outputs": [
    {
     "name": "stdout",
     "output_type": "stream",
     "text": [
      "\n",
      "ans =\n",
      "\n",
      "     3     2     1\n",
      "     6     5     4\n",
      "\n",
      "\n"
     ]
    }
   ],
   "source": [
    "fliplr(A)"
   ]
  },
  {
   "cell_type": "code",
   "execution_count": 20,
   "metadata": {},
   "outputs": [
    {
     "name": "stdout",
     "output_type": "stream",
     "text": [
      "\n",
      "B =\n",
      "\n",
      "     3     6\n",
      "     2     5\n",
      "     1     4\n",
      "\n",
      "\n"
     ]
    }
   ],
   "source": [
    "B = rot90(A)"
   ]
  },
  {
   "cell_type": "code",
   "execution_count": 21,
   "metadata": {},
   "outputs": [
    {
     "name": "stdout",
     "output_type": "stream",
     "text": [
      "\n",
      "C =\n",
      "\n",
      "     6     5     4\n",
      "     3     2     1\n",
      "\n",
      "\n"
     ]
    }
   ],
   "source": [
    "C = rot90(A,2)"
   ]
  },
  {
   "cell_type": "code",
   "execution_count": 22,
   "metadata": {},
   "outputs": [
    {
     "name": "stdout",
     "output_type": "stream",
     "text": [
      "\n",
      "D =\n",
      "\n",
      "     1     2     3     1     2     3\n",
      "     4     5     6     4     5     6\n",
      "     1     2     3     1     2     3\n",
      "     4     5     6     4     5     6\n",
      "\n",
      "\n"
     ]
    }
   ],
   "source": [
    "D = repmat(A,2)"
   ]
  },
  {
   "cell_type": "code",
   "execution_count": 23,
   "metadata": {},
   "outputs": [
    {
     "name": "stdout",
     "output_type": "stream",
     "text": [
      "\n",
      "E =\n",
      "\n",
      "     1     2     3     1     2     3     1     2     3\n",
      "     4     5     6     4     5     6     4     5     6\n",
      "     1     2     3     1     2     3     1     2     3\n",
      "     4     5     6     4     5     6     4     5     6\n",
      "\n",
      "\n"
     ]
    }
   ],
   "source": [
    "E = repmat(A,2,3)"
   ]
  },
  {
   "cell_type": "code",
   "execution_count": 24,
   "metadata": {},
   "outputs": [
    {
     "name": "stdout",
     "output_type": "stream",
     "text": [
      "\n",
      "ans =\n",
      "\n",
      "     2     3\n",
      "\n",
      "\n"
     ]
    }
   ],
   "source": [
    "size(A)"
   ]
  },
  {
   "cell_type": "code",
   "execution_count": 25,
   "metadata": {},
   "outputs": [
    {
     "name": "stdout",
     "output_type": "stream",
     "text": [
      "\n",
      "ans =\n",
      "\n",
      "     3\n",
      "\n",
      "\n"
     ]
    }
   ],
   "source": [
    "length(A)"
   ]
  },
  {
   "cell_type": "markdown",
   "metadata": {},
   "source": [
    "Matrix' in elaman sayısını verir "
   ]
  },
  {
   "cell_type": "code",
   "execution_count": 26,
   "metadata": {},
   "outputs": [
    {
     "name": "stdout",
     "output_type": "stream",
     "text": [
      "\n",
      "ans =\n",
      "\n",
      "     6\n",
      "\n",
      "\n"
     ]
    }
   ],
   "source": [
    "numel(A)"
   ]
  },
  {
   "cell_type": "markdown",
   "metadata": {},
   "source": [
    "**NOT** : Tek satır veya tek sütun matrix yapılarında length ve numel aynı değeri verir"
   ]
  },
  {
   "cell_type": "markdown",
   "metadata": {},
   "source": [
    "w = logspace(-1,2)\n",
    "\n",
    "50 tane tanımlar\n",
    "\n",
    "tabanlar eşittir üsler yazılır\n",
    "\n",
    "w = logspace(-1,2,200)\n",
    "\n",
    "200 tane elemandan oluşur"
   ]
  },
  {
   "cell_type": "markdown",
   "metadata": {},
   "source": [
    "Birim Matris"
   ]
  },
  {
   "cell_type": "code",
   "execution_count": null,
   "metadata": {},
   "outputs": [
    {
     "name": "stdout",
     "output_type": "stream",
     "text": [
      "\n",
      "ans =\n",
      "\n",
      "     1\n",
      "\n",
      "\n"
     ]
    }
   ],
   "source": [
    "eye"
   ]
  },
  {
   "cell_type": "code",
   "execution_count": 39,
   "metadata": {},
   "outputs": [
    {
     "name": "stdout",
     "output_type": "stream",
     "text": [
      "\n",
      "ans =\n",
      "\n",
      "     1     0     0\n",
      "     0     1     0\n",
      "     0     0     1\n",
      "\n",
      "\n"
     ]
    }
   ],
   "source": [
    "eye(3)"
   ]
  },
  {
   "cell_type": "markdown",
   "metadata": {},
   "source": [
    "Elemanı birlerden oluşur"
   ]
  },
  {
   "cell_type": "code",
   "execution_count": 28,
   "metadata": {},
   "outputs": [
    {
     "name": "stdout",
     "output_type": "stream",
     "text": [
      "\n",
      "ans =\n",
      "\n",
      "     1\n",
      "\n",
      "\n"
     ]
    }
   ],
   "source": [
    "ones"
   ]
  },
  {
   "cell_type": "code",
   "execution_count": 38,
   "metadata": {},
   "outputs": [
    {
     "name": "stdout",
     "output_type": "stream",
     "text": [
      "\n",
      "ans =\n",
      "\n",
      "     1     1     1\n",
      "     1     1     1\n",
      "     1     1     1\n",
      "\n",
      "\n"
     ]
    }
   ],
   "source": [
    "ones(3)"
   ]
  },
  {
   "cell_type": "markdown",
   "metadata": {},
   "source": [
    "Elemanı sıfırlardan oluşur"
   ]
  },
  {
   "cell_type": "code",
   "execution_count": 35,
   "metadata": {},
   "outputs": [
    {
     "name": "stdout",
     "output_type": "stream",
     "text": [
      "\n",
      "ans =\n",
      "\n",
      "     0\n",
      "\n",
      "\n"
     ]
    }
   ],
   "source": [
    "zeros"
   ]
  },
  {
   "cell_type": "code",
   "execution_count": 36,
   "metadata": {},
   "outputs": [
    {
     "name": "stdout",
     "output_type": "stream",
     "text": [
      "\n",
      "ans =\n",
      "\n",
      "     0     0     0\n",
      "     0     0     0\n",
      "\n",
      "\n"
     ]
    }
   ],
   "source": [
    "zeros(2,3)"
   ]
  },
  {
   "cell_type": "code",
   "execution_count": 37,
   "metadata": {},
   "outputs": [
    {
     "name": "stdout",
     "output_type": "stream",
     "text": [
      "\n",
      "ans =\n",
      "\n",
      "     0     0\n",
      "     0     0\n",
      "\n",
      "\n"
     ]
    }
   ],
   "source": [
    "zeros(2)"
   ]
  },
  {
   "cell_type": "code",
   "execution_count": 33,
   "metadata": {},
   "outputs": [
    {
     "name": "stderr",
     "output_type": "stream",
     "text": [
      "\u001b[1;31mNot enough input arguments.\n",
      "\n",
      "\u001b[0m"
     ]
    }
   ],
   "source": [
    "diag"
   ]
  },
  {
   "cell_type": "code",
   "execution_count": 29,
   "metadata": {},
   "outputs": [
    {
     "name": "stdout",
     "output_type": "stream",
     "text": [
      "\n",
      "ans =\n",
      "\n",
      "     2\n",
      "\n",
      "\n"
     ]
    }
   ],
   "source": [
    "diag(2)"
   ]
  },
  {
   "cell_type": "code",
   "execution_count": 31,
   "metadata": {},
   "outputs": [
    {
     "name": "stdout",
     "output_type": "stream",
     "text": [
      "\n",
      "ans =\n",
      "\n",
      "     0     0     0     2\n",
      "     0     0     0     0\n",
      "     0     0     0     0\n",
      "     0     0     0     0\n",
      "\n",
      "\n"
     ]
    }
   ],
   "source": [
    "diag(2,3)"
   ]
  },
  {
   "cell_type": "code",
   "execution_count": 32,
   "metadata": {},
   "outputs": [
    {
     "name": "stderr",
     "output_type": "stream",
     "text": [
      "\u001b[1;31mToo many input arguments.\n",
      "\n",
      "\u001b[0m"
     ]
    }
   ],
   "source": [
    "diag(2,3,4)"
   ]
  },
  {
   "cell_type": "code",
   "execution_count": 34,
   "metadata": {},
   "outputs": [
    {
     "name": "stdout",
     "output_type": "stream",
     "text": [
      "\n",
      "ans =\n",
      "\n",
      "     0     0     0     0     0\n",
      "     0     0     0     0     0\n",
      "     0     0     0     0     0\n",
      "     0     0     0     0     0\n",
      "     0     0     0     0     0\n",
      "\n",
      "\n"
     ]
    }
   ],
   "source": [
    "diag(0,4)"
   ]
  },
  {
   "cell_type": "code",
   "execution_count": 40,
   "metadata": {},
   "outputs": [
    {
     "name": "stdout",
     "output_type": "stream",
     "text": [
      "\n",
      "ans =\n",
      "\n",
      "     1     0     0\n",
      "     0     2     0\n",
      "     0     0     3\n",
      "\n",
      "\n"
     ]
    }
   ],
   "source": [
    "diag([1 2 3])"
   ]
  },
  {
   "cell_type": "markdown",
   "metadata": {},
   "source": [
    "Çaprazlarda sağda ve solda toplamları eşit olan bir matris verir"
   ]
  },
  {
   "cell_type": "code",
   "execution_count": 41,
   "metadata": {},
   "outputs": [
    {
     "name": "stdout",
     "output_type": "stream",
     "text": [
      "\n",
      "ans =\n",
      "\n",
      "     8     1     6\n",
      "     3     5     7\n",
      "     4     9     2\n",
      "\n",
      "\n"
     ]
    }
   ],
   "source": [
    "magic(3)"
   ]
  },
  {
   "cell_type": "markdown",
   "metadata": {},
   "source": [
    "Hatta görelim"
   ]
  },
  {
   "cell_type": "code",
   "execution_count": 49,
   "metadata": {},
   "outputs": [
    {
     "name": "stdout",
     "output_type": "stream",
     "text": [
      "\n",
      "ans =\n",
      "\n",
      "    15    15    15\n",
      "\n",
      "\n"
     ]
    }
   ],
   "source": [
    "sum(magic(3))"
   ]
  },
  {
   "cell_type": "markdown",
   "metadata": {},
   "source": [
    "0 ile 1 aralığında rastgele sayı üretir"
   ]
  },
  {
   "cell_type": "code",
   "execution_count": 42,
   "metadata": {},
   "outputs": [
    {
     "name": "stdout",
     "output_type": "stream",
     "text": [
      "\n",
      "ans =\n",
      "\n",
      "    0.8147\n",
      "\n",
      "\n"
     ]
    }
   ],
   "source": [
    "rand"
   ]
  },
  {
   "cell_type": "markdown",
   "metadata": {},
   "source": [
    "Negatif değerleri de kapsayan bir sayı üretir"
   ]
  },
  {
   "cell_type": "code",
   "execution_count": 43,
   "metadata": {},
   "outputs": [
    {
     "name": "stdout",
     "output_type": "stream",
     "text": [
      "\n",
      "ans =\n",
      "\n",
      "    1.8339\n",
      "\n",
      "\n"
     ]
    }
   ],
   "source": [
    "randn"
   ]
  },
  {
   "cell_type": "markdown",
   "metadata": {},
   "source": [
    "3'e kadar rastgele sayı üretir"
   ]
  },
  {
   "cell_type": "code",
   "execution_count": 45,
   "metadata": {},
   "outputs": [
    {
     "name": "stdout",
     "output_type": "stream",
     "text": [
      "\n",
      "ans =\n",
      "\n",
      "     1\n",
      "\n",
      "\n"
     ]
    }
   ],
   "source": [
    "randi(3)"
   ]
  },
  {
   "cell_type": "markdown",
   "metadata": {},
   "source": [
    "randi(üretilecek en büyük değer, kare matrix'in satır-sütun sayısı)"
   ]
  },
  {
   "cell_type": "code",
   "execution_count": 48,
   "metadata": {},
   "outputs": [
    {
     "name": "stdout",
     "output_type": "stream",
     "text": [
      "\n",
      "ans =\n",
      "\n",
      "     3     1\n",
      "     2     1\n",
      "\n",
      "\n"
     ]
    }
   ],
   "source": [
    "randi(3,2)"
   ]
  },
  {
   "cell_type": "code",
   "execution_count": 51,
   "metadata": {},
   "outputs": [
    {
     "name": "stdout",
     "output_type": "stream",
     "text": [
      "\n",
      "ans =\n",
      "\n",
      "     3     2     1\n",
      "     3     1     2\n",
      "     2     3     1\n",
      "     2     1     3\n",
      "     1     3     2\n",
      "     1     2     3\n",
      "\n",
      "\n"
     ]
    }
   ],
   "source": [
    "perms([1 2 3])"
   ]
  },
  {
   "cell_type": "markdown",
   "metadata": {},
   "source": [
    "Sayı değeri tam sayı olmak kaydı ile rastgele tam sayıları dizmek için kullanılır"
   ]
  },
  {
   "cell_type": "code",
   "execution_count": 52,
   "metadata": {},
   "outputs": [
    {
     "name": "stdout",
     "output_type": "stream",
     "text": [
      "\n",
      "P =\n",
      "\n",
      "     6     3     5     2     4     1\n",
      "     6     3     5     2     1     4\n",
      "     6     3     5     4     2     1\n",
      "     6     3     5     4     1     2\n",
      "     6     3     5     1     2     4\n",
      "     6     3     5     1     4     2\n",
      "     6     3     2     5     4     1\n",
      "     6     3     2     5     1     4\n",
      "     6     3     2     4     5     1\n",
      "     6     3     2     4     1     5\n",
      "     6     3     2     1     5     4\n",
      "     6     3     2     1     4     5\n",
      "     6     3     4     5     2     1\n",
      "     6     3     4     5     1     2\n",
      "     6     3     4     2     5     1\n",
      "     6     3     4     2     1     5\n",
      "     6     3     4     1     5     2\n",
      "     6     3     4     1     2     5\n",
      "     6     3     1     5     2     4\n",
      "     6     3     1     5     4     2\n",
      "     6     3     1     2     5     4\n",
      "     6     3     1     2     4     5\n",
      "     6     3     1     4     5     2\n",
      "     6     3     1     4     2     5\n",
      "     6     5     3     2     4     1\n",
      "     6     5     3     2     1     4\n",
      "     6     5     3     4     2     1\n",
      "     6     5     3     4     1     2\n",
      "     6     5     3     1     2     4\n",
      "     6     5     3     1     4     2\n",
      "     6     5     2     3     4     1\n",
      "     6     5     2     3     1     4\n",
      "     6     5     2     4     3     1\n",
      "     6     5     2     4     1     3\n",
      "     6     5     2     1     3     4\n",
      "     6     5     2     1     4     3\n",
      "     6     5     4     3     2     1\n",
      "     6     5     4     3     1     2\n",
      "     6     5     4     2     3     1\n",
      "     6     5     4     2     1     3\n",
      "     6     5     4     1     3     2\n",
      "     6     5     4     1     2     3\n",
      "     6     5     1     3     2     4\n",
      "     6     5     1     3     4     2\n",
      "     6     5     1     2     3     4\n",
      "     6     5     1     2     4     3\n",
      "     6     5     1     4     3     2\n",
      "     6     5     1     4     2     3\n",
      "     6     2     3     5     4     1\n",
      "     6     2     3     5     1     4\n",
      "     6     2     3     4     5     1\n",
      "     6     2     3     4     1     5\n",
      "     6     2     3     1     5     4\n",
      "     6     2     3     1     4     5\n",
      "     6     2     5     3     4     1\n",
      "     6     2     5     3     1     4\n",
      "     6     2     5     4     3     1\n",
      "     6     2     5     4     1     3\n",
      "     6     2     5     1     3     4\n",
      "     6     2     5     1     4     3\n",
      "     6     2     4     3     5     1\n",
      "     6     2     4     3     1     5\n",
      "     6     2     4     5     3     1\n",
      "     6     2     4     5     1     3\n",
      "     6     2     4     1     3     5\n",
      "     6     2     4     1     5     3\n",
      "     6     2     1     3     5     4\n",
      "     6     2     1     3     4     5\n",
      "     6     2     1     5     3     4\n",
      "     6     2     1     5     4     3\n",
      "     6     2     1     4     3     5\n",
      "     6     2     1     4     5     3\n",
      "     6     4     3     5     2     1\n",
      "     6     4     3     5     1     2\n",
      "     6     4     3     2     5     1\n",
      "     6     4     3     2     1     5\n",
      "     6     4     3     1     5     2\n",
      "     6     4     3     1     2     5\n",
      "     6     4     5     3     2     1\n",
      "     6     4     5     3     1     2\n",
      "     6     4     5     2     3     1\n",
      "     6     4     5     2     1     3\n",
      "     6     4     5     1     3     2\n",
      "     6     4     5     1     2     3\n",
      "     6     4     2     3     5     1\n",
      "     6     4     2     3     1     5\n",
      "     6     4     2     5     3     1\n",
      "     6     4     2     5     1     3\n",
      "     6     4     2     1     3     5\n",
      "     6     4     2     1     5     3\n",
      "     6     4     1     3     5     2\n",
      "     6     4     1     3     2     5\n",
      "     6     4     1     5     3     2\n",
      "     6     4     1     5     2     3\n",
      "     6     4     1     2     3     5\n",
      "     6     4     1     2     5     3\n",
      "     6     1     3     5     2     4\n",
      "     6     1     3     5     4     2\n",
      "     6     1     3     2     5     4\n",
      "     6     1     3     2     4     5\n",
      "     6     1     3     4     5     2\n",
      "     6     1     3     4     2     5\n",
      "     6     1     5     3     2     4\n",
      "     6     1     5     3     4     2\n",
      "     6     1     5     2     3     4\n",
      "     6     1     5     2     4     3\n",
      "     6     1     5     4     3     2\n",
      "     6     1     5     4     2     3\n",
      "     6     1     2     3     5     4\n",
      "     6     1     2     3     4     5\n",
      "     6     1     2     5     3     4\n",
      "     6     1     2     5     4     3\n",
      "     6     1     2     4     3     5\n",
      "     6     1     2     4     5     3\n",
      "     6     1     4     3     5     2\n",
      "     6     1     4     3     2     5\n",
      "     6     1     4     5     3     2\n",
      "     6     1     4     5     2     3\n",
      "     6     1     4     2     3     5\n",
      "     6     1     4     2     5     3\n",
      "     3     6     5     2     4     1\n",
      "     3     6     5     2     1     4\n",
      "     3     6     5     4     2     1\n",
      "     3     6     5     4     1     2\n",
      "     3     6     5     1     2     4\n",
      "     3     6     5     1     4     2\n",
      "     3     6     2     5     4     1\n",
      "     3     6     2     5     1     4\n",
      "     3     6     2     4     5     1\n",
      "     3     6     2     4     1     5\n",
      "     3     6     2     1     5     4\n",
      "     3     6     2     1     4     5\n",
      "     3     6     4     5     2     1\n",
      "     3     6     4     5     1     2\n",
      "     3     6     4     2     5     1\n",
      "     3     6     4     2     1     5\n",
      "     3     6     4     1     5     2\n",
      "     3     6     4     1     2     5\n",
      "     3     6     1     5     2     4\n",
      "     3     6     1     5     4     2\n",
      "     3     6     1     2     5     4\n",
      "     3     6     1     2     4     5\n",
      "     3     6     1     4     5     2\n",
      "     3     6     1     4     2     5\n",
      "     3     5     6     2     4     1\n",
      "     3     5     6     2     1     4\n",
      "     3     5     6     4     2     1\n",
      "     3     5     6     4     1     2\n",
      "     3     5     6     1     2     4\n",
      "     3     5     6     1     4     2\n",
      "     3     5     2     6     4     1\n",
      "     3     5     2     6     1     4\n",
      "     3     5     2     4     6     1\n",
      "     3     5     2     4     1     6\n",
      "     3     5     2     1     6     4\n",
      "     3     5     2     1     4     6\n",
      "     3     5     4     6     2     1\n",
      "     3     5     4     6     1     2\n",
      "     3     5     4     2     6     1\n",
      "     3     5     4     2     1     6\n",
      "     3     5     4     1     6     2\n",
      "     3     5     4     1     2     6\n",
      "     3     5     1     6     2     4\n",
      "     3     5     1     6     4     2\n",
      "     3     5     1     2     6     4\n",
      "     3     5     1     2     4     6\n",
      "     3     5     1     4     6     2\n",
      "     3     5     1     4     2     6\n",
      "     3     2     6     5     4     1\n",
      "     3     2     6     5     1     4\n",
      "     3     2     6     4     5     1\n",
      "     3     2     6     4     1     5\n",
      "     3     2     6     1     5     4\n",
      "     3     2     6     1     4     5\n",
      "     3     2     5     6     4     1\n",
      "     3     2     5     6     1     4\n",
      "     3     2     5     4     6     1\n",
      "     3     2     5     4     1     6\n",
      "     3     2     5     1     6     4\n",
      "     3     2     5     1     4     6\n",
      "     3     2     4     6     5     1\n",
      "     3     2     4     6     1     5\n",
      "     3     2     4     5     6     1\n",
      "     3     2     4     5     1     6\n",
      "     3     2     4     1     6     5\n",
      "     3     2     4     1     5     6\n",
      "     3     2     1     6     5     4\n",
      "     3     2     1     6     4     5\n",
      "     3     2     1     5     6     4\n",
      "     3     2     1     5     4     6\n",
      "     3     2     1     4     6     5\n",
      "     3     2     1     4     5     6\n",
      "     3     4     6     5     2     1\n",
      "     3     4     6     5     1     2\n",
      "     3     4     6     2     5     1\n",
      "     3     4     6     2     1     5\n",
      "     3     4     6     1     5     2\n",
      "     3     4     6     1     2     5\n",
      "     3     4     5     6     2     1\n",
      "     3     4     5     6     1     2\n",
      "     3     4     5     2     6     1\n",
      "     3     4     5     2     1     6\n",
      "     3     4     5     1     6     2\n",
      "     3     4     5     1     2     6\n",
      "     3     4     2     6     5     1\n",
      "     3     4     2     6     1     5\n",
      "     3     4     2     5     6     1\n",
      "     3     4     2     5     1     6\n",
      "     3     4     2     1     6     5\n",
      "     3     4     2     1     5     6\n",
      "     3     4     1     6     5     2\n",
      "     3     4     1     6     2     5\n",
      "     3     4     1     5     6     2\n",
      "     3     4     1     5     2     6\n",
      "     3     4     1     2     6     5\n",
      "     3     4     1     2     5     6\n",
      "     3     1     6     5     2     4\n",
      "     3     1     6     5     4     2\n",
      "     3     1     6     2     5     4\n",
      "     3     1     6     2     4     5\n",
      "     3     1     6     4     5     2\n",
      "     3     1     6     4     2     5\n",
      "     3     1     5     6     2     4\n",
      "     3     1     5     6     4     2\n",
      "     3     1     5     2     6     4\n",
      "     3     1     5     2     4     6\n",
      "     3     1     5     4     6     2\n",
      "     3     1     5     4     2     6\n",
      "     3     1     2     6     5     4\n",
      "     3     1     2     6     4     5\n",
      "     3     1     2     5     6     4\n",
      "     3     1     2     5     4     6\n",
      "     3     1     2     4     6     5\n",
      "     3     1     2     4     5     6\n",
      "     3     1     4     6     5     2\n",
      "     3     1     4     6     2     5\n",
      "     3     1     4     5     6     2\n",
      "     3     1     4     5     2     6\n",
      "     3     1     4     2     6     5\n",
      "     3     1     4     2     5     6\n",
      "     5     6     3     2     4     1\n",
      "     5     6     3     2     1     4\n",
      "     5     6     3     4     2     1\n",
      "     5     6     3     4     1     2\n",
      "     5     6     3     1     2     4\n",
      "     5     6     3     1     4     2\n",
      "     5     6     2     3     4     1\n",
      "     5     6     2     3     1     4\n",
      "     5     6     2     4     3     1\n",
      "     5     6     2     4     1     3\n",
      "     5     6     2     1     3     4\n",
      "     5     6     2     1     4     3\n",
      "     5     6     4     3     2     1\n",
      "     5     6     4     3     1     2\n",
      "     5     6     4     2     3     1\n",
      "     5     6     4     2     1     3\n",
      "     5     6     4     1     3     2\n",
      "     5     6     4     1     2     3\n",
      "     5     6     1     3     2     4\n",
      "     5     6     1     3     4     2\n",
      "     5     6     1     2     3     4\n",
      "     5     6     1     2     4     3\n",
      "     5     6     1     4     3     2\n",
      "     5     6     1     4     2     3\n",
      "     5     3     6     2     4     1\n",
      "     5     3     6     2     1     4\n",
      "     5     3     6     4     2     1\n",
      "     5     3     6     4     1     2\n",
      "     5     3     6     1     2     4\n",
      "     5     3     6     1     4     2\n",
      "     5     3     2     6     4     1\n",
      "     5     3     2     6     1     4\n",
      "     5     3     2     4     6     1\n",
      "     5     3     2     4     1     6\n",
      "     5     3     2     1     6     4\n",
      "     5     3     2     1     4     6\n",
      "     5     3     4     6     2     1\n",
      "     5     3     4     6     1     2\n",
      "     5     3     4     2     6     1\n",
      "     5     3     4     2     1     6\n",
      "     5     3     4     1     6     2\n",
      "     5     3     4     1     2     6\n",
      "     5     3     1     6     2     4\n",
      "     5     3     1     6     4     2\n",
      "     5     3     1     2     6     4\n",
      "     5     3     1     2     4     6\n",
      "     5     3     1     4     6     2\n",
      "     5     3     1     4     2     6\n",
      "     5     2     6     3     4     1\n",
      "     5     2     6     3     1     4\n",
      "     5     2     6     4     3     1\n",
      "     5     2     6     4     1     3\n",
      "     5     2     6     1     3     4\n",
      "     5     2     6     1     4     3\n",
      "     5     2     3     6     4     1\n",
      "     5     2     3     6     1     4\n",
      "     5     2     3     4     6     1\n",
      "     5     2     3     4     1     6\n",
      "     5     2     3     1     6     4\n",
      "     5     2     3     1     4     6\n",
      "     5     2     4     6     3     1\n",
      "     5     2     4     6     1     3\n",
      "     5     2     4     3     6     1\n",
      "     5     2     4     3     1     6\n",
      "     5     2     4     1     6     3\n",
      "     5     2     4     1     3     6\n",
      "     5     2     1     6     3     4\n",
      "     5     2     1     6     4     3\n",
      "     5     2     1     3     6     4\n",
      "     5     2     1     3     4     6\n",
      "     5     2     1     4     6     3\n",
      "     5     2     1     4     3     6\n",
      "     5     4     6     3     2     1\n",
      "     5     4     6     3     1     2\n",
      "     5     4     6     2     3     1\n",
      "     5     4     6     2     1     3\n",
      "     5     4     6     1     3     2\n",
      "     5     4     6     1     2     3\n",
      "     5     4     3     6     2     1\n",
      "     5     4     3     6     1     2\n",
      "     5     4     3     2     6     1\n",
      "     5     4     3     2     1     6\n",
      "     5     4     3     1     6     2\n",
      "     5     4     3     1     2     6\n",
      "     5     4     2     6     3     1\n",
      "     5     4     2     6     1     3\n",
      "     5     4     2     3     6     1\n",
      "     5     4     2     3     1     6\n",
      "     5     4     2     1     6     3\n",
      "     5     4     2     1     3     6\n",
      "     5     4     1     6     3     2\n",
      "     5     4     1     6     2     3\n",
      "     5     4     1     3     6     2\n",
      "     5     4     1     3     2     6\n",
      "     5     4     1     2     6     3\n",
      "     5     4     1     2     3     6\n",
      "     5     1     6     3     2     4\n",
      "     5     1     6     3     4     2\n",
      "     5     1     6     2     3     4\n",
      "     5     1     6     2     4     3\n",
      "     5     1     6     4     3     2\n",
      "     5     1     6     4     2     3\n",
      "     5     1     3     6     2     4\n",
      "     5     1     3     6     4     2\n",
      "     5     1     3     2     6     4\n",
      "     5     1     3     2     4     6\n",
      "     5     1     3     4     6     2\n",
      "     5     1     3     4     2     6\n",
      "     5     1     2     6     3     4\n",
      "     5     1     2     6     4     3\n",
      "     5     1     2     3     6     4\n",
      "     5     1     2     3     4     6\n",
      "     5     1     2     4     6     3\n",
      "     5     1     2     4     3     6\n",
      "     5     1     4     6     3     2\n",
      "     5     1     4     6     2     3\n",
      "     5     1     4     3     6     2\n",
      "     5     1     4     3     2     6\n",
      "     5     1     4     2     6     3\n",
      "     5     1     4     2     3     6\n",
      "     2     6     3     5     4     1\n",
      "     2     6     3     5     1     4\n",
      "     2     6     3     4     5     1\n",
      "     2     6     3     4     1     5\n",
      "     2     6     3     1     5     4\n",
      "     2     6     3     1     4     5\n",
      "     2     6     5     3     4     1\n",
      "     2     6     5     3     1     4\n",
      "     2     6     5     4     3     1\n",
      "     2     6     5     4     1     3\n",
      "     2     6     5     1     3     4\n",
      "     2     6     5     1     4     3\n",
      "     2     6     4     3     5     1\n",
      "     2     6     4     3     1     5\n",
      "     2     6     4     5     3     1\n",
      "     2     6     4     5     1     3\n",
      "     2     6     4     1     3     5\n",
      "     2     6     4     1     5     3\n",
      "     2     6     1     3     5     4\n",
      "     2     6     1     3     4     5\n",
      "     2     6     1     5     3     4\n",
      "     2     6     1     5     4     3\n",
      "     2     6     1     4     3     5\n",
      "     2     6     1     4     5     3\n",
      "     2     3     6     5     4     1\n",
      "     2     3     6     5     1     4\n",
      "     2     3     6     4     5     1\n",
      "     2     3     6     4     1     5\n",
      "     2     3     6     1     5     4\n",
      "     2     3     6     1     4     5\n",
      "     2     3     5     6     4     1\n",
      "     2     3     5     6     1     4\n",
      "     2     3     5     4     6     1\n",
      "     2     3     5     4     1     6\n",
      "     2     3     5     1     6     4\n",
      "     2     3     5     1     4     6\n",
      "     2     3     4     6     5     1\n",
      "     2     3     4     6     1     5\n",
      "     2     3     4     5     6     1\n",
      "     2     3     4     5     1     6\n",
      "     2     3     4     1     6     5\n",
      "     2     3     4     1     5     6\n",
      "     2     3     1     6     5     4\n",
      "     2     3     1     6     4     5\n",
      "     2     3     1     5     6     4\n",
      "     2     3     1     5     4     6\n",
      "     2     3     1     4     6     5\n",
      "     2     3     1     4     5     6\n",
      "     2     5     6     3     4     1\n",
      "     2     5     6     3     1     4\n",
      "     2     5     6     4     3     1\n",
      "     2     5     6     4     1     3\n",
      "     2     5     6     1     3     4\n",
      "     2     5     6     1     4     3\n",
      "     2     5     3     6     4     1\n",
      "     2     5     3     6     1     4\n",
      "     2     5     3     4     6     1\n",
      "     2     5     3     4     1     6\n",
      "     2     5     3     1     6     4\n",
      "     2     5     3     1     4     6\n",
      "     2     5     4     6     3     1\n",
      "     2     5     4     6     1     3\n",
      "     2     5     4     3     6     1\n",
      "     2     5     4     3     1     6\n",
      "     2     5     4     1     6     3\n",
      "     2     5     4     1     3     6\n",
      "     2     5     1     6     3     4\n",
      "     2     5     1     6     4     3\n",
      "     2     5     1     3     6     4\n",
      "     2     5     1     3     4     6\n",
      "     2     5     1     4     6     3\n",
      "     2     5     1     4     3     6\n",
      "     2     4     6     3     5     1\n",
      "     2     4     6     3     1     5\n",
      "     2     4     6     5     3     1\n",
      "     2     4     6     5     1     3\n",
      "     2     4     6     1     3     5\n",
      "     2     4     6     1     5     3\n",
      "     2     4     3     6     5     1\n",
      "     2     4     3     6     1     5\n",
      "     2     4     3     5     6     1\n",
      "     2     4     3     5     1     6\n",
      "     2     4     3     1     6     5\n",
      "     2     4     3     1     5     6\n",
      "     2     4     5     6     3     1\n",
      "     2     4     5     6     1     3\n",
      "     2     4     5     3     6     1\n",
      "     2     4     5     3     1     6\n",
      "     2     4     5     1     6     3\n",
      "     2     4     5     1     3     6\n",
      "     2     4     1     6     3     5\n",
      "     2     4     1     6     5     3\n",
      "     2     4     1     3     6     5\n",
      "     2     4     1     3     5     6\n",
      "     2     4     1     5     6     3\n",
      "     2     4     1     5     3     6\n",
      "     2     1     6     3     5     4\n",
      "     2     1     6     3     4     5\n",
      "     2     1     6     5     3     4\n",
      "     2     1     6     5     4     3\n",
      "     2     1     6     4     3     5\n",
      "     2     1     6     4     5     3\n",
      "     2     1     3     6     5     4\n",
      "     2     1     3     6     4     5\n",
      "     2     1     3     5     6     4\n",
      "     2     1     3     5     4     6\n",
      "     2     1     3     4     6     5\n",
      "     2     1     3     4     5     6\n",
      "     2     1     5     6     3     4\n",
      "     2     1     5     6     4     3\n",
      "     2     1     5     3     6     4\n",
      "     2     1     5     3     4     6\n",
      "     2     1     5     4     6     3\n",
      "     2     1     5     4     3     6\n",
      "     2     1     4     6     3     5\n",
      "     2     1     4     6     5     3\n",
      "     2     1     4     3     6     5\n",
      "     2     1     4     3     5     6\n",
      "     2     1     4     5     6     3\n",
      "     2     1     4     5     3     6\n",
      "     4     6     3     5     2     1\n",
      "     4     6     3     5     1     2\n",
      "     4     6     3     2     5     1\n",
      "     4     6     3     2     1     5\n",
      "     4     6     3     1     5     2\n",
      "     4     6     3     1     2     5\n",
      "     4     6     5     3     2     1\n",
      "     4     6     5     3     1     2\n",
      "     4     6     5     2     3     1\n",
      "     4     6     5     2     1     3\n",
      "     4     6     5     1     3     2\n",
      "     4     6     5     1     2     3\n",
      "     4     6     2     3     5     1\n",
      "     4     6     2     3     1     5\n",
      "     4     6     2     5     3     1\n",
      "     4     6     2     5     1     3\n",
      "     4     6     2     1     3     5\n",
      "     4     6     2     1     5     3\n",
      "     4     6     1     3     5     2\n",
      "     4     6     1     3     2     5\n",
      "     4     6     1     5     3     2\n",
      "     4     6     1     5     2     3\n",
      "     4     6     1     2     3     5\n",
      "     4     6     1     2     5     3\n",
      "     4     3     6     5     2     1\n",
      "     4     3     6     5     1     2\n",
      "     4     3     6     2     5     1\n",
      "     4     3     6     2     1     5\n",
      "     4     3     6     1     5     2\n",
      "     4     3     6     1     2     5\n",
      "     4     3     5     6     2     1\n",
      "     4     3     5     6     1     2\n",
      "     4     3     5     2     6     1\n",
      "     4     3     5     2     1     6\n",
      "     4     3     5     1     6     2\n",
      "     4     3     5     1     2     6\n",
      "     4     3     2     6     5     1\n",
      "     4     3     2     6     1     5\n",
      "     4     3     2     5     6     1\n",
      "     4     3     2     5     1     6\n",
      "     4     3     2     1     6     5\n",
      "     4     3     2     1     5     6\n",
      "     4     3     1     6     5     2\n",
      "     4     3     1     6     2     5\n",
      "     4     3     1     5     6     2\n",
      "     4     3     1     5     2     6\n",
      "     4     3     1     2     6     5\n",
      "     4     3     1     2     5     6\n",
      "     4     5     6     3     2     1\n",
      "     4     5     6     3     1     2\n",
      "     4     5     6     2     3     1\n",
      "     4     5     6     2     1     3\n",
      "     4     5     6     1     3     2\n",
      "     4     5     6     1     2     3\n",
      "     4     5     3     6     2     1\n",
      "     4     5     3     6     1     2\n",
      "     4     5     3     2     6     1\n",
      "     4     5     3     2     1     6\n",
      "     4     5     3     1     6     2\n",
      "     4     5     3     1     2     6\n",
      "     4     5     2     6     3     1\n",
      "     4     5     2     6     1     3\n",
      "     4     5     2     3     6     1\n",
      "     4     5     2     3     1     6\n",
      "     4     5     2     1     6     3\n",
      "     4     5     2     1     3     6\n",
      "     4     5     1     6     3     2\n",
      "     4     5     1     6     2     3\n",
      "     4     5     1     3     6     2\n",
      "     4     5     1     3     2     6\n",
      "     4     5     1     2     6     3\n",
      "     4     5     1     2     3     6\n",
      "     4     2     6     3     5     1\n",
      "     4     2     6     3     1     5\n",
      "     4     2     6     5     3     1\n",
      "     4     2     6     5     1     3\n",
      "     4     2     6     1     3     5\n",
      "     4     2     6     1     5     3\n",
      "     4     2     3     6     5     1\n",
      "     4     2     3     6     1     5\n",
      "     4     2     3     5     6     1\n",
      "     4     2     3     5     1     6\n",
      "     4     2     3     1     6     5\n",
      "     4     2     3     1     5     6\n",
      "     4     2     5     6     3     1\n",
      "     4     2     5     6     1     3\n",
      "     4     2     5     3     6     1\n",
      "     4     2     5     3     1     6\n",
      "     4     2     5     1     6     3\n",
      "     4     2     5     1     3     6\n",
      "     4     2     1     6     3     5\n",
      "     4     2     1     6     5     3\n",
      "     4     2     1     3     6     5\n",
      "     4     2     1     3     5     6\n",
      "     4     2     1     5     6     3\n",
      "     4     2     1     5     3     6\n",
      "     4     1     6     3     5     2\n",
      "     4     1     6     3     2     5\n",
      "     4     1     6     5     3     2\n",
      "     4     1     6     5     2     3\n",
      "     4     1     6     2     3     5\n",
      "     4     1     6     2     5     3\n",
      "     4     1     3     6     5     2\n",
      "     4     1     3     6     2     5\n",
      "     4     1     3     5     6     2\n",
      "     4     1     3     5     2     6\n",
      "     4     1     3     2     6     5\n",
      "     4     1     3     2     5     6\n",
      "     4     1     5     6     3     2\n",
      "     4     1     5     6     2     3\n",
      "     4     1     5     3     6     2\n",
      "     4     1     5     3     2     6\n",
      "     4     1     5     2     6     3\n",
      "     4     1     5     2     3     6\n",
      "     4     1     2     6     3     5\n",
      "     4     1     2     6     5     3\n",
      "     4     1     2     3     6     5\n",
      "     4     1     2     3     5     6\n",
      "     4     1     2     5     6     3\n",
      "     4     1     2     5     3     6\n",
      "     1     6     3     5     2     4\n",
      "     1     6     3     5     4     2\n",
      "     1     6     3     2     5     4\n",
      "     1     6     3     2     4     5\n",
      "     1     6     3     4     5     2\n",
      "     1     6     3     4     2     5\n",
      "     1     6     5     3     2     4\n",
      "     1     6     5     3     4     2\n",
      "     1     6     5     2     3     4\n",
      "     1     6     5     2     4     3\n",
      "     1     6     5     4     3     2\n",
      "     1     6     5     4     2     3\n",
      "     1     6     2     3     5     4\n",
      "     1     6     2     3     4     5\n",
      "     1     6     2     5     3     4\n",
      "     1     6     2     5     4     3\n",
      "     1     6     2     4     3     5\n",
      "     1     6     2     4     5     3\n",
      "     1     6     4     3     5     2\n",
      "     1     6     4     3     2     5\n",
      "     1     6     4     5     3     2\n",
      "     1     6     4     5     2     3\n",
      "     1     6     4     2     3     5\n",
      "     1     6     4     2     5     3\n",
      "     1     3     6     5     2     4\n",
      "     1     3     6     5     4     2\n",
      "     1     3     6     2     5     4\n",
      "     1     3     6     2     4     5\n",
      "     1     3     6     4     5     2\n",
      "     1     3     6     4     2     5\n",
      "     1     3     5     6     2     4\n",
      "     1     3     5     6     4     2\n",
      "     1     3     5     2     6     4\n",
      "     1     3     5     2     4     6\n",
      "     1     3     5     4     6     2\n",
      "     1     3     5     4     2     6\n",
      "     1     3     2     6     5     4\n",
      "     1     3     2     6     4     5\n",
      "     1     3     2     5     6     4\n",
      "     1     3     2     5     4     6\n",
      "     1     3     2     4     6     5\n",
      "     1     3     2     4     5     6\n",
      "     1     3     4     6     5     2\n",
      "     1     3     4     6     2     5\n",
      "     1     3     4     5     6     2\n",
      "     1     3     4     5     2     6\n",
      "     1     3     4     2     6     5\n",
      "     1     3     4     2     5     6\n",
      "     1     5     6     3     2     4\n",
      "     1     5     6     3     4     2\n",
      "     1     5     6     2     3     4\n",
      "     1     5     6     2     4     3\n",
      "     1     5     6     4     3     2\n",
      "     1     5     6     4     2     3\n",
      "     1     5     3     6     2     4\n",
      "     1     5     3     6     4     2\n",
      "     1     5     3     2     6     4\n",
      "     1     5     3     2     4     6\n",
      "     1     5     3     4     6     2\n",
      "     1     5     3     4     2     6\n",
      "     1     5     2     6     3     4\n",
      "     1     5     2     6     4     3\n",
      "     1     5     2     3     6     4\n",
      "     1     5     2     3     4     6\n",
      "     1     5     2     4     6     3\n",
      "     1     5     2     4     3     6\n",
      "     1     5     4     6     3     2\n",
      "     1     5     4     6     2     3\n",
      "     1     5     4     3     6     2\n",
      "     1     5     4     3     2     6\n",
      "     1     5     4     2     6     3\n",
      "     1     5     4     2     3     6\n",
      "     1     2     6     3     5     4\n",
      "     1     2     6     3     4     5\n",
      "     1     2     6     5     3     4\n",
      "     1     2     6     5     4     3\n",
      "     1     2     6     4     3     5\n",
      "     1     2     6     4     5     3\n",
      "     1     2     3     6     5     4\n",
      "     1     2     3     6     4     5\n",
      "     1     2     3     5     6     4\n",
      "     1     2     3     5     4     6\n",
      "     1     2     3     4     6     5\n",
      "     1     2     3     4     5     6\n",
      "     1     2     5     6     3     4\n",
      "     1     2     5     6     4     3\n",
      "     1     2     5     3     6     4\n",
      "     1     2     5     3     4     6\n",
      "     1     2     5     4     6     3\n",
      "     1     2     5     4     3     6\n",
      "     1     2     4     6     3     5\n",
      "     1     2     4     6     5     3\n",
      "     1     2     4     3     6     5\n",
      "     1     2     4     3     5     6\n",
      "     1     2     4     5     6     3\n",
      "     1     2     4     5     3     6\n",
      "     1     4     6     3     5     2\n",
      "     1     4     6     3     2     5\n",
      "     1     4     6     5     3     2\n",
      "     1     4     6     5     2     3\n",
      "     1     4     6     2     3     5\n",
      "     1     4     6     2     5     3\n",
      "     1     4     3     6     5     2\n",
      "     1     4     3     6     2     5\n",
      "     1     4     3     5     6     2\n",
      "     1     4     3     5     2     6\n",
      "     1     4     3     2     6     5\n",
      "     1     4     3     2     5     6\n",
      "     1     4     5     6     3     2\n",
      "     1     4     5     6     2     3\n",
      "     1     4     5     3     6     2\n",
      "     1     4     5     3     2     6\n",
      "     1     4     5     2     6     3\n",
      "     1     4     5     2     3     6\n",
      "     1     4     2     6     3     5\n",
      "     1     4     2     6     5     3\n",
      "     1     4     2     3     6     5\n",
      "     1     4     2     3     5     6\n",
      "     1     4     2     5     6     3\n",
      "     1     4     2     5     3     6\n",
      "\n",
      "\n"
     ]
    }
   ],
   "source": [
    "P = perms([1 2 3; 4 5 6])"
   ]
  },
  {
   "cell_type": "code",
   "execution_count": 53,
   "metadata": {},
   "outputs": [
    {
     "name": "stdout",
     "output_type": "stream",
     "text": [
      "\n",
      "ans =\n",
      "\n",
      "   720     6\n",
      "\n",
      "\n"
     ]
    }
   ],
   "source": [
    "size(P)"
   ]
  },
  {
   "cell_type": "markdown",
   "metadata": {},
   "source": [
    "randperm(maximum sayı, sayı miktarı)"
   ]
  },
  {
   "cell_type": "code",
   "execution_count": 54,
   "metadata": {},
   "outputs": [
    {
     "name": "stdout",
     "output_type": "stream",
     "text": [
      "\n",
      "ans =\n",
      "\n",
      "     4     2\n",
      "\n",
      "\n"
     ]
    }
   ],
   "source": [
    "randperm(4,2)"
   ]
  },
  {
   "cell_type": "code",
   "execution_count": 55,
   "metadata": {},
   "outputs": [
    {
     "name": "stdout",
     "output_type": "stream",
     "text": [
      "\n",
      "ans =\n",
      "\n",
      "     8\n",
      "\n",
      "\n"
     ]
    }
   ],
   "source": [
    "sum([1 3 4])"
   ]
  },
  {
   "cell_type": "code",
   "execution_count": 56,
   "metadata": {},
   "outputs": [
    {
     "name": "stdout",
     "output_type": "stream",
     "text": [
      "\n",
      "ans =\n",
      "\n",
      "     8\n",
      "\n",
      "\n"
     ]
    }
   ],
   "source": [
    "sum([1; 3; 4])"
   ]
  },
  {
   "cell_type": "code",
   "execution_count": 57,
   "metadata": {},
   "outputs": [
    {
     "name": "stdout",
     "output_type": "stream",
     "text": [
      "\n",
      "A =\n",
      "\n",
      "     1     3     5\n",
      "     2     4     6\n",
      "\n",
      "\n"
     ]
    }
   ],
   "source": [
    "A = [1 3 5; 2 4 6]"
   ]
  },
  {
   "cell_type": "code",
   "execution_count": 58,
   "metadata": {},
   "outputs": [
    {
     "name": "stdout",
     "output_type": "stream",
     "text": [
      "\n",
      "ans =\n",
      "\n",
      "     3     7    11\n",
      "\n",
      "\n"
     ]
    }
   ],
   "source": [
    "sum(A)"
   ]
  },
  {
   "cell_type": "code",
   "execution_count": 59,
   "metadata": {},
   "outputs": [
    {
     "name": "stdout",
     "output_type": "stream",
     "text": [
      "\n",
      "ans =\n",
      "\n",
      "     1     3     5\n",
      "     2     4     6\n",
      "\n",
      "\n"
     ]
    }
   ],
   "source": [
    "sort(A)"
   ]
  },
  {
   "cell_type": "code",
   "execution_count": 60,
   "metadata": {},
   "outputs": [
    {
     "name": "stdout",
     "output_type": "stream",
     "text": [
      "\n",
      "ans =\n",
      "\n",
      "    -2     0     6    10\n",
      "\n",
      "\n"
     ]
    }
   ],
   "source": [
    "sort([-2 10 0 6])"
   ]
  },
  {
   "cell_type": "code",
   "execution_count": 61,
   "metadata": {},
   "outputs": [
    {
     "name": "stdout",
     "output_type": "stream",
     "text": [
      "\n",
      "ans =\n",
      "\n",
      "     2     4     6\n",
      "\n",
      "\n"
     ]
    }
   ],
   "source": [
    "max(A)"
   ]
  },
  {
   "cell_type": "code",
   "execution_count": 62,
   "metadata": {},
   "outputs": [
    {
     "name": "stdout",
     "output_type": "stream",
     "text": [
      "\n",
      "ans =\n",
      "\n",
      "     1     3     5\n",
      "\n",
      "\n"
     ]
    }
   ],
   "source": [
    "min(A)"
   ]
  },
  {
   "cell_type": "code",
   "execution_count": 64,
   "metadata": {},
   "outputs": [
    {
     "name": "stdout",
     "output_type": "stream",
     "text": [
      "\n",
      "C =\n",
      "\n",
      "     1     2     3\n",
      "\n",
      "\n",
      "ans =\n",
      "\n",
      "     2\n",
      "\n",
      "\n"
     ]
    }
   ],
   "source": [
    "C = [1 2 3]\n",
    "sum(C)/numel(C)"
   ]
  },
  {
   "cell_type": "code",
   "execution_count": 65,
   "metadata": {},
   "outputs": [
    {
     "name": "stdout",
     "output_type": "stream",
     "text": [
      "\n",
      "ans =\n",
      "\n",
      "     1\n",
      "\n",
      "\n"
     ]
    }
   ],
   "source": [
    "rank(C)"
   ]
  },
  {
   "cell_type": "code",
   "execution_count": 66,
   "metadata": {},
   "outputs": [
    {
     "name": "stdout",
     "output_type": "stream",
     "text": [
      "\n",
      "ans =\n",
      "\n",
      "     2\n",
      "\n",
      "\n"
     ]
    }
   ],
   "source": [
    "rank(A)"
   ]
  },
  {
   "cell_type": "code",
   "execution_count": 67,
   "metadata": {},
   "outputs": [
    {
     "name": "stdout",
     "output_type": "stream",
     "text": [
      "\n",
      "ans =\n",
      "\n",
      "     2\n",
      "\n",
      "\n"
     ]
    }
   ],
   "source": [
    "rank(B)"
   ]
  }
 ],
 "metadata": {
  "kernelspec": {
   "display_name": "Matlab (Connection)",
   "language": "matlab",
   "name": "matlab_connect"
  },
  "language_info": {
   "codemirror_mode": "octave",
   "file_extension": ".m",
   "help_links": [
    {
     "text": "MetaKernel Magics",
     "url": "https://metakernel.readthedocs.io/en/latest/source/README.html"
    }
   ],
   "mimetype": "text/x-octave",
   "name": "matlab",
   "version": "0.17.1"
  },
  "polyglot_notebook": {
   "kernelInfo": {
    "defaultKernelName": "csharp",
    "items": [
     {
      "aliases": [],
      "name": "csharp"
     }
    ]
   }
  }
 },
 "nbformat": 4,
 "nbformat_minor": 2
}
